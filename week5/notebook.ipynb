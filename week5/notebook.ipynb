{
 "cells": [
  {
   "cell_type": "markdown",
   "id": "1895fd3c",
   "metadata": {},
   "source": [
    "## Question 1\n",
    "\n",
    "* Install Pipenv\n",
    "* What's the version of pipenv you installed?\n",
    "* Use `--version` to find out"
   ]
  },
  {
   "cell_type": "code",
   "execution_count": 1,
   "id": "54e686f0",
   "metadata": {},
   "outputs": [
    {
     "name": "stdout",
     "output_type": "stream",
     "text": [
      "Requirement already satisfied: pipenv in /home/ubuntu/.pyenv/versions/3.11.3/lib/python3.11/site-packages (2023.10.3)\n",
      "Requirement already satisfied: certifi in /home/ubuntu/.pyenv/versions/3.11.3/lib/python3.11/site-packages (from pipenv) (2023.5.7)\n",
      "Requirement already satisfied: setuptools>=67 in /home/ubuntu/.pyenv/versions/3.11.3/lib/python3.11/site-packages (from pipenv) (68.2.2)\n",
      "Requirement already satisfied: virtualenv>=20.24.2 in /home/ubuntu/.pyenv/versions/3.11.3/lib/python3.11/site-packages (from pipenv) (20.24.5)\n",
      "Requirement already satisfied: distlib<1,>=0.3.7 in /home/ubuntu/.pyenv/versions/3.11.3/lib/python3.11/site-packages (from virtualenv>=20.24.2->pipenv) (0.3.7)\n",
      "Requirement already satisfied: filelock<4,>=3.12.2 in /home/ubuntu/.pyenv/versions/3.11.3/lib/python3.11/site-packages (from virtualenv>=20.24.2->pipenv) (3.12.4)\n",
      "Requirement already satisfied: platformdirs<4,>=3.9.1 in /home/ubuntu/.pyenv/versions/3.11.3/lib/python3.11/site-packages (from virtualenv>=20.24.2->pipenv) (3.11.0)\n",
      "\n",
      "\u001b[1m[\u001b[0m\u001b[34;49mnotice\u001b[0m\u001b[1;39;49m]\u001b[0m\u001b[39;49m A new release of pip is available: \u001b[0m\u001b[31;49m23.2.1\u001b[0m\u001b[39;49m -> \u001b[0m\u001b[32;49m23.3\u001b[0m\n",
      "\u001b[1m[\u001b[0m\u001b[34;49mnotice\u001b[0m\u001b[1;39;49m]\u001b[0m\u001b[39;49m To update, run: \u001b[0m\u001b[32;49mpip install --upgrade pip\u001b[0m\n"
     ]
    }
   ],
   "source": [
    "! pip install pipenv --upgrade"
   ]
  },
  {
   "cell_type": "code",
   "execution_count": 2,
   "id": "6c021279",
   "metadata": {},
   "outputs": [
    {
     "name": "stdout",
     "output_type": "stream",
     "text": [
      "\u001b[1mpipenv\u001b[0m, version 2023.10.3\r\n"
     ]
    }
   ],
   "source": [
    "! pipenv --version"
   ]
  },
  {
   "cell_type": "markdown",
   "id": "b0124e80",
   "metadata": {},
   "source": [
    "> **Answer 1**: 2023.10.3"
   ]
  },
  {
   "cell_type": "markdown",
   "id": "547bd6c5",
   "metadata": {},
   "source": [
    "## Question 2\n",
    "\n",
    "* Use Pipenv to install Scikit-Learn version 1.3.1\n",
    "* What's the first hash for scikit-learn you get in Pipfile.lock?\n",
    "\n",
    "> **Note**: you should create an empty folder for homework\n",
    "and do it there. \n"
   ]
  },
  {
   "cell_type": "code",
   "execution_count": 3,
   "id": "921872b5",
   "metadata": {},
   "outputs": [
    {
     "name": "stdout",
     "output_type": "stream",
     "text": [
      "\u001b[1;32mInstalling scikit-\u001b[0m\u001b[1;33mlearn\u001b[0m\u001b[1;32m==\u001b[0m\u001b[1;36m1.3\u001b[0m\u001b[1;32m.\u001b[0m\u001b[1;36m1\u001b[0m\u001b[1;33m...\u001b[0m\n",
      "\u001b[?25lResolving scikit-\u001b[33mlearn\u001b[0m==\u001b[1;36m1.3\u001b[0m.\u001b[1;36m1\u001b[0m\u001b[33m...\u001b[0m\n",
      "\u001b[2K✔ Installation Succeeded\n",
      "\u001b[2K\u001b[32m⠋\u001b[0m Installing scikit-learn...\n",
      "\u001b[1A\u001b[2K\u001b[1mInstalling dependencies from Pipfile.lock \u001b[0m\u001b[1m(\u001b[0m\u001b[1m7bfb14\u001b[0m\u001b[1m)\u001b[0m\u001b[1;33m...\u001b[0m\n",
      "To activate this project's virtualenv, run \u001b[33mpipenv shell\u001b[0m.\n",
      "Alternatively, run a command inside the virtualenv with \u001b[33mpipenv run\u001b[0m.\n"
     ]
    }
   ],
   "source": [
    "! pipenv install scikit-learn==1.3.1"
   ]
  },
  {
   "cell_type": "code",
   "execution_count": 4,
   "id": "3d3e3890",
   "metadata": {},
   "outputs": [
    {
     "data": {
      "text/plain": [
       "'sha256:0c275a06c5190c5ce00af0acbb61c06374087949f643ef32d355ece12c4db043'"
      ]
     },
     "execution_count": 4,
     "metadata": {},
     "output_type": "execute_result"
    }
   ],
   "source": [
    "import json\n",
    "with open('Pipfile.lock') as f:\n",
    "    j = json.load(f)\n",
    "j['default']['scikit-learn']['hashes'][0]"
   ]
  },
  {
   "cell_type": "markdown",
   "id": "dab6d037",
   "metadata": {},
   "source": [
    "> **Answer 2**: 0c275a06c5190c5ce00af0acbb61c06374087949f643ef32d355ece12c4db043"
   ]
  },
  {
   "cell_type": "markdown",
   "id": "8941d4bd",
   "metadata": {},
   "source": [
    "## Models\n",
    "\n",
    "We've prepared a dictionary vectorizer and a model.\n",
    "\n",
    "They were trained (roughly) using this code:\n",
    "\n",
    "```python\n",
    "features = ['job','duration', 'poutcome']\n",
    "dicts = df[features].to_dict(orient='records')\n",
    "\n",
    "dv = DictVectorizer(sparse=False)\n",
    "X = dv.fit_transform(dicts)\n",
    "\n",
    "model = LogisticRegression().fit(X, y)\n",
    "```\n",
    "\n",
    "> **Note**: You don't need to train the model. This code is just for your reference.\n",
    "\n",
    "And then saved with Pickle. Download them:\n",
    "\n",
    "* [DictVectorizer](https://github.com/DataTalksClub/machine-learning-zoomcamp/tree/master/cohorts/2023/05-deployment/homework/dv.bin?raw=true)\n",
    "* [LogisticRegression](https://github.com/DataTalksClub/machine-learning-zoomcamp/tree/master/cohorts/2023/05-deployment/homework/model1.bin?raw=true)\n",
    "\n",
    "With `wget`:\n",
    "\n",
    "```bash\n",
    "PREFIX=https://raw.githubusercontent.com/DataTalksClub/machine-learning-zoomcamp/master/cohorts/2023/05-deployment/homework\n",
    "wget $PREFIX/model1.bin\n",
    "wget $PREFIX/dv.bin\n",
    "```"
   ]
  },
  {
   "cell_type": "code",
   "execution_count": 5,
   "id": "a316114e",
   "metadata": {},
   "outputs": [
    {
     "name": "stderr",
     "output_type": "stream",
     "text": [
      "--2023-10-16 18:21:53--  https://raw.githubusercontent.com/DataTalksClub/machine-learning-zoomcamp/master/cohorts/2023/05-deployment/homework/model1.bin\n",
      "Resolving raw.githubusercontent.com (raw.githubusercontent.com)... 2606:50c0:8000::154, 2606:50c0:8003::154, 2606:50c0:8002::154, ...\n",
      "Connecting to raw.githubusercontent.com (raw.githubusercontent.com)|2606:50c0:8000::154|:443... connected.\n",
      "HTTP request sent, awaiting response... 200 OK\n",
      "Length: 842 [application/octet-stream]\n",
      "Saving to: ‘model1.bin.1’\n",
      "\n",
      "     0K                                                       100%  154M=0s\n",
      "\n",
      "2023-10-16 18:21:53 (154 MB/s) - ‘model1.bin.1’ saved [842/842]\n",
      "\n",
      "--2023-10-16 18:21:53--  https://raw.githubusercontent.com/DataTalksClub/machine-learning-zoomcamp/master/cohorts/2023/05-deployment/homework/dv.bin\n",
      "Resolving raw.githubusercontent.com (raw.githubusercontent.com)... 2606:50c0:8000::154, 2606:50c0:8001::154, 2606:50c0:8002::154, ...\n",
      "Connecting to raw.githubusercontent.com (raw.githubusercontent.com)|2606:50c0:8000::154|:443... connected.\n",
      "HTTP request sent, awaiting response... 200 OK\n",
      "Length: 560 [application/octet-stream]\n",
      "Saving to: ‘dv.bin.1’\n",
      "\n",
      "     0K                                                       100%  123M=0s\n",
      "\n",
      "2023-10-16 18:21:53 (123 MB/s) - ‘dv.bin.1’ saved [560/560]\n",
      "\n"
     ]
    }
   ],
   "source": [
    "%%bash\n",
    "\n",
    "PREFIX=https://raw.githubusercontent.com/DataTalksClub/machine-learning-zoomcamp/master/cohorts/2023/05-deployment/homework\n",
    "wget $PREFIX/model1.bin\n",
    "wget $PREFIX/dv.bin\n"
   ]
  },
  {
   "cell_type": "markdown",
   "id": "520f4be8",
   "metadata": {},
   "source": [
    "## Question 3\n",
    "\n",
    "Let's use these models!\n",
    "\n",
    "* Write a script for loading these models with pickle\n",
    "* Score this client:\n",
    "\n",
    "```json\n",
    "{\"job\": \"retired\", \"duration\": 445, \"poutcome\": \"success\"}\n",
    "```\n",
    "\n",
    "What's the probability that this client will get a credit? \n",
    "\n",
    "* 0.162\n",
    "* 0.392\n",
    "* 0.652\n",
    "* 0.902\n",
    "\n",
    "If you're getting errors when unpickling the files, check their checksum:\n",
    "\n",
    "```bash\n",
    "$ md5sum model1.bin dv.bin\n",
    "8ebfdf20010cfc7f545c43e3b52fc8a1  model1.bin\n",
    "924b496a89148b422c74a62dbc92a4fb  dv.bin\n",
    "```"
   ]
  },
  {
   "cell_type": "code",
   "execution_count": 6,
   "id": "56f64a8e",
   "metadata": {},
   "outputs": [],
   "source": [
    "import pickle\n",
    "\n",
    "with open('model1.bin', 'rb') as f:\n",
    "    model = pickle.load(f)\n",
    "    \n",
    "with open('dv.bin', 'rb') as f:\n",
    "    dv = pickle.load(f)"
   ]
  },
  {
   "cell_type": "code",
   "execution_count": 7,
   "id": "f8f14a51",
   "metadata": {},
   "outputs": [],
   "source": [
    "X_test = dv.transform({\"job\": \"retired\", \"duration\": 445, \"poutcome\": \"success\"})"
   ]
  },
  {
   "cell_type": "code",
   "execution_count": 8,
   "id": "ce4bd139",
   "metadata": {},
   "outputs": [
    {
     "data": {
      "text/plain": [
       "0.902"
      ]
     },
     "execution_count": 8,
     "metadata": {},
     "output_type": "execute_result"
    }
   ],
   "source": [
    "y_test = model.predict_proba(X_test)[0, 1]\n",
    "round(y_test, 3)"
   ]
  },
  {
   "cell_type": "markdown",
   "id": "3366714f",
   "metadata": {},
   "source": [
    "> **Answer 3**: 0.902"
   ]
  },
  {
   "cell_type": "markdown",
   "id": "712fa916",
   "metadata": {},
   "source": [
    "## Question 4\n",
    "\n",
    "Now let's serve this model as a web service\n",
    "\n",
    "* Install Flask and gunicorn (or waitress, if you're on Windows)\n",
    "* Write Flask code for serving the model\n",
    "* Now score this client using `requests`:\n",
    "\n",
    "```python\n",
    "url = \"YOUR_URL\"\n",
    "client = {\"job\": \"unknown\", \"duration\": 270, \"poutcome\": \"failure\"}\n",
    "requests.post(url, json=client).json()\n",
    "```\n",
    "\n",
    "What's the probability that this client will get a credit?\n",
    "\n",
    "* 0.140\n",
    "* 0.440\n",
    "* 0.645\n",
    "* 0.845"
   ]
  },
  {
   "cell_type": "code",
   "execution_count": 9,
   "id": "aa8e399b",
   "metadata": {},
   "outputs": [
    {
     "name": "stdout",
     "output_type": "stream",
     "text": [
      "\u001b[1;32mInstalling flask\u001b[0m\u001b[1;33m...\u001b[0m\r\n",
      "\u001b[?25lResolving flask\u001b[33m...\u001b[0m\r\n",
      "\u001b[32m⠋\u001b[0m Installing...\r",
      "\u001b[2K✔ Installation Succeeded\r\n",
      "\u001b[32m⠋\u001b[0m Installing flask...\r",
      "\u001b[2K\u001b[32m⠋\u001b[0m Installing flask...\r\n",
      "\u001b[?25h\r",
      "\u001b[1A\u001b[2K\u001b[1;32mInstalling gunicorn\u001b[0m\u001b[1;33m...\u001b[0m\r\n",
      "\u001b[?25lResolving gunicorn\u001b[33m...\u001b[0m\r\n",
      "\u001b[32m⠋\u001b[0m Installing...\r",
      "\u001b[2K✔ Installation Succeeded\r\n",
      "\u001b[32m⠋\u001b[0m Installing gunicorn...\r",
      "\u001b[2K\u001b[32m⠋\u001b[0m Installing gunicorn...\r\n",
      "\u001b[?25h\r",
      "\u001b[1A\u001b[2K\u001b[1mInstalling dependencies from Pipfile.lock \u001b[0m\u001b[1m(\u001b[0m\u001b[1m7bfb14\u001b[0m\u001b[1m)\u001b[0m\u001b[1;33m...\u001b[0m\r\n",
      "To activate this project's virtualenv, run \u001b[33mpipenv shell\u001b[0m.\r\n",
      "Alternatively, run a command inside the virtualenv with \u001b[33mpipenv run\u001b[0m.\r\n"
     ]
    }
   ],
   "source": [
    "! pipenv install flask gunicorn"
   ]
  },
  {
   "cell_type": "code",
   "execution_count": 10,
   "id": "54b52a23",
   "metadata": {},
   "outputs": [
    {
     "name": "stdout",
     "output_type": "stream",
     "text": [
      "Start the webservice with `python webservice.py` and press enter:\n"
     ]
    },
    {
     "data": {
      "text/plain": [
       "''"
      ]
     },
     "execution_count": 10,
     "metadata": {},
     "output_type": "execute_result"
    }
   ],
   "source": [
    "# start the webservice with: python webservice.py\n",
    "input('Start the webservice with `python webservice.py` and press enter:')"
   ]
  },
  {
   "cell_type": "code",
   "execution_count": 11,
   "id": "10cbcecc",
   "metadata": {},
   "outputs": [
    {
     "data": {
      "text/plain": [
       "0.14"
      ]
     },
     "execution_count": 11,
     "metadata": {},
     "output_type": "execute_result"
    }
   ],
   "source": [
    "import requests\n",
    "\n",
    "url = 'http://localhost:9991/predict'\n",
    "client = {\"job\": \"unknown\", \"duration\": 270, \"poutcome\": \"failure\"}\n",
    "answer = requests.post(url, json=client).json()\n",
    "round(answer['credit_probability'], 3)"
   ]
  },
  {
   "cell_type": "markdown",
   "id": "42e194e7",
   "metadata": {},
   "source": [
    "> **Answer 4**: 0.140"
   ]
  },
  {
   "cell_type": "markdown",
   "id": "5da888b8",
   "metadata": {},
   "source": [
    "## Docker\n",
    "\n",
    "Install [Docker](https://github.com/DataTalksClub/machine-learning-zoomcamp/blob/master/05-deployment/06-docker.md). \n",
    "We will use it for the next two questions.\n",
    "\n",
    "For these questions, we prepared a base image: `svizor/zoomcamp-model:3.10.12-slim`. \n",
    "You'll need to use it (see Question 5 for an example).\n",
    "\n",
    "This image is based on `python:3.10.12-slim` and has a logistic regression model \n",
    "(a different one) as well a dictionary vectorizer inside. \n",
    "\n",
    "This is how the Dockerfile for this image looks like:\n",
    "\n",
    "```docker \n",
    "FROM python:3.10.12-slim\n",
    "WORKDIR /app\n",
    "COPY [\"model2.bin\", \"dv.bin\", \"./\"]\n",
    "```\n",
    "\n",
    "We already built it and then pushed it to [`svizor/zoomcamp-model:3.10.12-slim`](https://hub.docker.com/r/svizor/zoomcamp-model).\n",
    "\n",
    "> **Note**: You don't need to build this docker image, it's just for your reference."
   ]
  },
  {
   "cell_type": "code",
   "execution_count": 12,
   "id": "1345e4d7",
   "metadata": {},
   "outputs": [
    {
     "name": "stdout",
     "output_type": "stream",
     "text": [
      "Reading package lists... Done\n",
      "Building dependency tree... Done\n",
      "Reading state information... Done\n",
      "docker.io is already the newest version (24.0.5-0ubuntu1~22.04.1).\n",
      "0 upgraded, 0 newly installed, 0 to remove and 586 not upgraded.\n"
     ]
    }
   ],
   "source": [
    "! sudo apt-get install -y docker.io"
   ]
  },
  {
   "cell_type": "markdown",
   "id": "82f34b84",
   "metadata": {},
   "source": [
    "## Question 5\n",
    "\n",
    "Download the base image `svizor/zoomcamp-model:3.10.12-slim`. You can easily make it by using [docker pull](https://docs.docker.com/engine/reference/commandline/pull/) command.\n",
    "\n",
    "So what's the size of this base image?\n",
    "\n",
    "* 47 MB\n",
    "* 147 MB\n",
    "* 374 MB\n",
    "* 574 MB\n",
    "\n",
    "You can get this information when running `docker images` - it'll be in the \"SIZE\" column."
   ]
  },
  {
   "cell_type": "code",
   "execution_count": 13,
   "id": "6b7d0b4b",
   "metadata": {},
   "outputs": [
    {
     "name": "stdout",
     "output_type": "stream",
     "text": [
      "3.10.12-slim: Pulling from svizor/zoomcamp-model\r\n",
      "Digest: sha256:e8441100b9d8da56344f50c673eb2daded3c61ce9565e45c3592c02f34fb3149\r\n",
      "Status: Image is up to date for svizor/zoomcamp-model:3.10.12-slim\r\n",
      "docker.io/svizor/zoomcamp-model:3.10.12-slim\r\n"
     ]
    }
   ],
   "source": [
    "! docker pull svizor/zoomcamp-model:3.10.12-slim"
   ]
  },
  {
   "cell_type": "code",
   "execution_count": 14,
   "id": "a5e011f0",
   "metadata": {},
   "outputs": [
    {
     "name": "stdout",
     "output_type": "stream",
     "text": [
      "REPOSITORY              TAG            IMAGE ID       CREATED      SIZE\r\n",
      "svizor/zoomcamp-model   3.10.12-slim   08266c8f0c4b   7 days ago   147MB\r\n"
     ]
    }
   ],
   "source": [
    "! docker images svizor/*"
   ]
  },
  {
   "cell_type": "markdown",
   "id": "64900728",
   "metadata": {},
   "source": [
    "> **Answer 5**: 147MB"
   ]
  },
  {
   "cell_type": "markdown",
   "id": "22b761e1",
   "metadata": {},
   "source": [
    "## Dockerfile\n",
    "\n",
    "Now create your own Dockerfile based on the image we prepared.\n",
    "\n",
    "It should start like that:\n",
    "\n",
    "```docker\n",
    "FROM svizor/zoomcamp-model:3.10.12-slim\n",
    "# add your stuff here\n",
    "```\n",
    "\n",
    "Now complete it:\n",
    "\n",
    "* Install all the dependencies form the Pipenv file\n",
    "* Copy your Flask script\n",
    "* Run it with Gunicorn \n",
    "\n",
    "After that, you can build your docker image."
   ]
  },
  {
   "cell_type": "code",
   "execution_count": 15,
   "id": "8ad378be",
   "metadata": {},
   "outputs": [
    {
     "name": "stdout",
     "output_type": "stream",
     "text": [
      "DEPRECATED: The legacy builder is deprecated and will be removed in a future release.\n",
      "            Install the buildx component to build images with BuildKit:\n",
      "            https://docs.docker.com/go/buildx/\n",
      "\n",
      "Sending build context to Docker daemon  77.82kB\n",
      "Step 1/8 : FROM svizor/zoomcamp-model:3.10.12-slim\n",
      " ---> 08266c8f0c4b\n",
      "Step 2/8 : WORKDIR /app\n",
      " ---> Running in b7fbf75dba88\n",
      "Removing intermediate container b7fbf75dba88\n",
      " ---> 23bc4b66716a\n",
      "Step 3/8 : COPY [\"Pipfile\", \"Pipfile.lock\", \"webservice.py\", \"./\"]\n",
      " ---> dd9aa1946a89\n",
      "Step 4/8 : RUN     pip install pipenv &&     pipenv install --deploy --system\n",
      " ---> Running in 32cbbff6769b\n",
      "Collecting pipenv\n",
      "  Downloading pipenv-2023.10.3-py3-none-any.whl (3.2 MB)\n",
      "     ━━━━━━━━━━━━━━━━━━━━━━━━━━━━━━━━━━━━━━━━ 3.2/3.2 MB 6.0 MB/s eta 0:00:00\n",
      "Collecting virtualenv>=20.24.2\n",
      "  Downloading virtualenv-20.24.5-py3-none-any.whl (3.7 MB)\n",
      "     ━━━━━━━━━━━━━━━━━━━━━━━━━━━━━━━━━━━━━━━━ 3.7/3.7 MB 6.5 MB/s eta 0:00:00\n",
      "Collecting certifi\n",
      "  Downloading certifi-2023.7.22-py3-none-any.whl (158 kB)\n",
      "     ━━━━━━━━━━━━━━━━━━━━━━━━━━━━━━━━━━━━━━━ 158.3/158.3 kB 5.8 MB/s eta 0:00:00\n",
      "Collecting setuptools>=67\n",
      "  Downloading setuptools-68.2.2-py3-none-any.whl (807 kB)\n",
      "     ━━━━━━━━━━━━━━━━━━━━━━━━━━━━━━━━━━━━━━━ 807.9/807.9 kB 6.3 MB/s eta 0:00:00\n",
      "Collecting platformdirs<4,>=3.9.1\n",
      "  Downloading platformdirs-3.11.0-py3-none-any.whl (17 kB)\n",
      "Collecting distlib<1,>=0.3.7\n",
      "  Downloading distlib-0.3.7-py2.py3-none-any.whl (468 kB)\n",
      "     ━━━━━━━━━━━━━━━━━━━━━━━━━━━━━━━━━━━━━━━ 468.9/468.9 kB 6.5 MB/s eta 0:00:00\n",
      "Collecting filelock<4,>=3.12.2\n",
      "  Downloading filelock-3.12.4-py3-none-any.whl (11 kB)\n",
      "Installing collected packages: distlib, setuptools, platformdirs, filelock, certifi, virtualenv, pipenv\n",
      "  Attempting uninstall: setuptools\n",
      "    Found existing installation: setuptools 65.5.1\n",
      "    Uninstalling setuptools-65.5.1:\n",
      "      Successfully uninstalled setuptools-65.5.1\n",
      "Successfully installed certifi-2023.7.22 distlib-0.3.7 filelock-3.12.4 pipenv-2023.10.3 platformdirs-3.11.0 setuptools-68.2.2 virtualenv-20.24.5\n",
      "\u001b[91mWARNING: Running pip as the 'root' user can result in broken permissions and conflicting behaviour with the system package manager. It is recommended to use a virtual environment instead: https://pip.pypa.io/warnings/venv\n",
      "\u001b[0m\u001b[91m\n",
      "[notice] A new release of pip is available: 23.0.1 -> 23.3\n",
      "[notice] To update, run: pip install --upgrade pip\n",
      "\u001b[0mInstalling dependencies from Pipfile.lock (7bfb14)...\n",
      "Removing intermediate container 32cbbff6769b\n",
      " ---> 921d48cd8d96\n",
      "Step 5/8 : EXPOSE 9991\n",
      " ---> Running in 7866b09d0c41\n",
      "Removing intermediate container 7866b09d0c41\n",
      " ---> cf10d6ba8e4a\n",
      "Step 6/8 : ENV MODEL_PATH='/app/model2.bin'\n",
      " ---> Running in bfcddf4d310a\n",
      "Removing intermediate container bfcddf4d310a\n",
      " ---> 63b2313a5dec\n",
      "Step 7/8 : ENV DV_PATH='/app/dv.bin'\n",
      " ---> Running in 76c757408d59\n",
      "Removing intermediate container 76c757408d59\n",
      " ---> b6ad5553ec75\n",
      "Step 8/8 : ENTRYPOINT [\"gunicorn\", \"--bind\", \"0.0.0.0:9991\", \"webservice:app\"]\n",
      " ---> Running in 1021188aa820\n",
      "Removing intermediate container 1021188aa820\n",
      " ---> f42f2bf781f5\n",
      "Successfully built f42f2bf781f5\n",
      "Successfully tagged hw5:latest\n"
     ]
    }
   ],
   "source": [
    "! docker build --no-cache -t hw5 ."
   ]
  },
  {
   "cell_type": "markdown",
   "id": "2612561a",
   "metadata": {},
   "source": [
    "## Question 6\n",
    "\n",
    "Let's run your docker container!\n",
    "\n",
    "After running it, score this client once again:\n",
    "\n",
    "```python\n",
    "url = \"YOUR_URL\"\n",
    "client = {\"job\": \"retired\", \"duration\": 445, \"poutcome\": \"success\"}\n",
    "requests.post(url, json=client).json()\n",
    "```\n",
    "\n",
    "What's the probability that this client will get a credit now?\n",
    "\n",
    "* 0.168\n",
    "* 0.530\n",
    "* 0.730\n",
    "* 0.968"
   ]
  },
  {
   "cell_type": "code",
   "execution_count": 16,
   "id": "bafb029b",
   "metadata": {},
   "outputs": [
    {
     "name": "stdout",
     "output_type": "stream",
     "text": [
      "Start the docker image with `docker run --rm -it -p 9991:9991 hw5` and press enter:\n"
     ]
    },
    {
     "data": {
      "text/plain": [
       "''"
      ]
     },
     "execution_count": 16,
     "metadata": {},
     "output_type": "execute_result"
    }
   ],
   "source": [
    "# start the webservice with: python webservice.py\n",
    "input('Start the docker image with `docker run --rm -it -p 9991:9991 hw5` and press enter:')"
   ]
  },
  {
   "cell_type": "code",
   "execution_count": 17,
   "id": "c2d82f88",
   "metadata": {},
   "outputs": [
    {
     "data": {
      "text/plain": [
       "0.727"
      ]
     },
     "execution_count": 17,
     "metadata": {},
     "output_type": "execute_result"
    }
   ],
   "source": [
    "url = \"http://localhost:9991/predict\"\n",
    "client = {\"job\": \"retired\", \"duration\": 445, \"poutcome\": \"success\"}\n",
    "answer = requests.post(url, json=client).json()\n",
    "round(answer['credit_probability'], 3)"
   ]
  },
  {
   "cell_type": "markdown",
   "id": "a5fd4e8f",
   "metadata": {},
   "source": [
    "> **Answer 6**: 0.730"
   ]
  }
 ],
 "metadata": {
  "kernelspec": {
   "display_name": "mlzoomcamp",
   "language": "python",
   "name": "mlzoomcamp"
  },
  "language_info": {
   "codemirror_mode": {
    "name": "ipython",
    "version": 3
   },
   "file_extension": ".py",
   "mimetype": "text/x-python",
   "name": "python",
   "nbconvert_exporter": "python",
   "pygments_lexer": "ipython3",
   "version": "3.11.3"
  }
 },
 "nbformat": 4,
 "nbformat_minor": 5
}
