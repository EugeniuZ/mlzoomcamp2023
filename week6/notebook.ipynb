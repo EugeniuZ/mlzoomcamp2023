{
 "cells": [
  {
   "cell_type": "markdown",
   "id": "f1982bf2",
   "metadata": {},
   "source": [
    "### Preparing the dataset \n",
    "\n",
    "For this homework, we only want to use a subset of data. This is the same subset we used in homework #2.\n",
    "But in contrast to homework #2, we are going to use all columns of the dataset.\n",
    "\n",
    "First, keep only the records where `ocean_proximity` is either `'<1H OCEAN'` or `'INLAND'`\n",
    "\n",
    "Preparation:\n",
    "\n",
    "* Fill missing values with zeros.\n",
    "* Apply the log transform to `median_house_value`.\n",
    "* Do train/validation/test split with 60%/20%/20% distribution. \n",
    "* Use the `train_test_split` function and set the `random_state` parameter to 1.\n",
    "* Use `DictVectorizer(sparse=True)` to turn the dataframes into matrices."
   ]
  },
  {
   "cell_type": "code",
   "execution_count": 1,
   "id": "f62a04a6",
   "metadata": {},
   "outputs": [],
   "source": [
    "import numpy as np\n",
    "import pandas as pd\n",
    "import xgboost as xgb\n",
    "\n",
    "from matplotlib import pyplot as plt\n",
    "\n",
    "from sklearn.ensemble import RandomForestRegressor\n",
    "\n",
    "from sklearn.feature_extraction import DictVectorizer\n",
    "\n",
    "from sklearn.metrics import mean_squared_error\n",
    "\n",
    "from sklearn.model_selection import train_test_split\n",
    "\n",
    "from sklearn.tree import DecisionTreeRegressor\n",
    "from sklearn.tree import export_text"
   ]
  },
  {
   "cell_type": "code",
   "execution_count": 2,
   "id": "89b6446d",
   "metadata": {},
   "outputs": [
    {
     "data": {
      "text/html": [
       "<div>\n",
       "<style scoped>\n",
       "    .dataframe tbody tr th:only-of-type {\n",
       "        vertical-align: middle;\n",
       "    }\n",
       "\n",
       "    .dataframe tbody tr th {\n",
       "        vertical-align: top;\n",
       "    }\n",
       "\n",
       "    .dataframe thead th {\n",
       "        text-align: right;\n",
       "    }\n",
       "</style>\n",
       "<table border=\"1\" class=\"dataframe\">\n",
       "  <thead>\n",
       "    <tr style=\"text-align: right;\">\n",
       "      <th></th>\n",
       "      <th>longitude</th>\n",
       "      <th>latitude</th>\n",
       "      <th>housing_median_age</th>\n",
       "      <th>total_rooms</th>\n",
       "      <th>total_bedrooms</th>\n",
       "      <th>population</th>\n",
       "      <th>households</th>\n",
       "      <th>median_income</th>\n",
       "      <th>median_house_value</th>\n",
       "      <th>ocean_proximity</th>\n",
       "    </tr>\n",
       "  </thead>\n",
       "  <tbody>\n",
       "    <tr>\n",
       "      <th>20635</th>\n",
       "      <td>-121.09</td>\n",
       "      <td>39.48</td>\n",
       "      <td>25.0</td>\n",
       "      <td>1665.0</td>\n",
       "      <td>374.0</td>\n",
       "      <td>845.0</td>\n",
       "      <td>330.0</td>\n",
       "      <td>1.5603</td>\n",
       "      <td>78100.0</td>\n",
       "      <td>INLAND</td>\n",
       "    </tr>\n",
       "    <tr>\n",
       "      <th>20636</th>\n",
       "      <td>-121.21</td>\n",
       "      <td>39.49</td>\n",
       "      <td>18.0</td>\n",
       "      <td>697.0</td>\n",
       "      <td>150.0</td>\n",
       "      <td>356.0</td>\n",
       "      <td>114.0</td>\n",
       "      <td>2.5568</td>\n",
       "      <td>77100.0</td>\n",
       "      <td>INLAND</td>\n",
       "    </tr>\n",
       "    <tr>\n",
       "      <th>20637</th>\n",
       "      <td>-121.22</td>\n",
       "      <td>39.43</td>\n",
       "      <td>17.0</td>\n",
       "      <td>2254.0</td>\n",
       "      <td>485.0</td>\n",
       "      <td>1007.0</td>\n",
       "      <td>433.0</td>\n",
       "      <td>1.7000</td>\n",
       "      <td>92300.0</td>\n",
       "      <td>INLAND</td>\n",
       "    </tr>\n",
       "    <tr>\n",
       "      <th>20638</th>\n",
       "      <td>-121.32</td>\n",
       "      <td>39.43</td>\n",
       "      <td>18.0</td>\n",
       "      <td>1860.0</td>\n",
       "      <td>409.0</td>\n",
       "      <td>741.0</td>\n",
       "      <td>349.0</td>\n",
       "      <td>1.8672</td>\n",
       "      <td>84700.0</td>\n",
       "      <td>INLAND</td>\n",
       "    </tr>\n",
       "    <tr>\n",
       "      <th>20639</th>\n",
       "      <td>-121.24</td>\n",
       "      <td>39.37</td>\n",
       "      <td>16.0</td>\n",
       "      <td>2785.0</td>\n",
       "      <td>616.0</td>\n",
       "      <td>1387.0</td>\n",
       "      <td>530.0</td>\n",
       "      <td>2.3886</td>\n",
       "      <td>89400.0</td>\n",
       "      <td>INLAND</td>\n",
       "    </tr>\n",
       "  </tbody>\n",
       "</table>\n",
       "</div>"
      ],
      "text/plain": [
       "       longitude  latitude  housing_median_age  total_rooms  total_bedrooms  \\\n",
       "20635    -121.09     39.48                25.0       1665.0           374.0   \n",
       "20636    -121.21     39.49                18.0        697.0           150.0   \n",
       "20637    -121.22     39.43                17.0       2254.0           485.0   \n",
       "20638    -121.32     39.43                18.0       1860.0           409.0   \n",
       "20639    -121.24     39.37                16.0       2785.0           616.0   \n",
       "\n",
       "       population  households  median_income  median_house_value  \\\n",
       "20635       845.0       330.0         1.5603             78100.0   \n",
       "20636       356.0       114.0         2.5568             77100.0   \n",
       "20637      1007.0       433.0         1.7000             92300.0   \n",
       "20638       741.0       349.0         1.8672             84700.0   \n",
       "20639      1387.0       530.0         2.3886             89400.0   \n",
       "\n",
       "      ocean_proximity  \n",
       "20635          INLAND  \n",
       "20636          INLAND  \n",
       "20637          INLAND  \n",
       "20638          INLAND  \n",
       "20639          INLAND  "
      ]
     },
     "execution_count": 2,
     "metadata": {},
     "output_type": "execute_result"
    }
   ],
   "source": [
    "df_orig = pd.read_csv('housing.csv')\n",
    "df_orig.tail()"
   ]
  },
  {
   "cell_type": "code",
   "execution_count": 3,
   "id": "6c3db94d",
   "metadata": {},
   "outputs": [
    {
     "data": {
      "image/png": "[encoded data removed]",
      "text/plain": [
       "<Figure size 640x480 with 1 Axes>"
      ]
     },
     "metadata": {},
     "output_type": "display_data"
    }
   ],
   "source": [
    "df = (\n",
    "    df_orig[df_orig['ocean_proximity'].isin(['<1H OCEAN', 'INLAND'])]\n",
    "    .fillna(0)\n",
    "    .assign(median_house_value=np.log1p(df_orig['median_house_value']))\n",
    ")\n",
    "df.median_house_value.hist(bins=50);\n",
    "plt.title('Median House Prices (Log Scale)');"
   ]
  },
  {
   "cell_type": "code",
   "execution_count": 4,
   "id": "c0268276",
   "metadata": {},
   "outputs": [],
   "source": [
    "random_seed = 1"
   ]
  },
  {
   "cell_type": "code",
   "execution_count": 5,
   "id": "378ea45d",
   "metadata": {},
   "outputs": [
    {
     "name": "stdout",
     "output_type": "stream",
     "text": [
      "train: 59.99%\n",
      "val: 20.00%\n",
      "test: 20.00%\n"
     ]
    }
   ],
   "source": [
    "df_full_train, df_test = train_test_split(df, test_size=0.2, random_state=random_seed)\n",
    "df_train, df_val = train_test_split(df_full_train, test_size=0.25, random_state=random_seed)\n",
    "print(f'train: {len(df_train)/len(df):.2%}')\n",
    "print(f'val: {len(df_val)/len(df):.2%}')\n",
    "print(f'test: {len(df_test)/len(df):.2%}')"
   ]
  },
  {
   "cell_type": "code",
   "execution_count": 6,
   "id": "4b376479",
   "metadata": {},
   "outputs": [],
   "source": [
    "target = 'median_house_value'\n",
    "y_train = df_train.pop(target)\n",
    "y_val = df_val.pop(target)\n",
    "y_test = df_test.pop(target)\n",
    "\n",
    "dv = DictVectorizer(sparse=True)\n",
    "\n",
    "X_train = dv.fit_transform(df_train.to_dict(orient='records'))\n",
    "X_val = dv.transform(df_val.to_dict(orient='records'))\n",
    "X_test = dv.transform(df_test.to_dict(orient='records'))"
   ]
  },
  {
   "cell_type": "markdown",
   "id": "7c57f0ad",
   "metadata": {},
   "source": [
    "## Question 1\n",
    "\n",
    "Let's train a decision tree regressor to predict the `median_house_value` variable. \n",
    "\n",
    "* Train a model with `max_depth=1`.\n",
    "\n",
    "\n",
    "Which feature is used for splitting the data?\n",
    "\n",
    "* `ocean_proximity`\n",
    "* `total_rooms`\n",
    "* `latitude`\n",
    "* `population`"
   ]
  },
  {
   "cell_type": "code",
   "execution_count": 7,
   "id": "3c6045ef",
   "metadata": {},
   "outputs": [],
   "source": [
    "model = DecisionTreeRegressor(max_depth=1, random_state=random_seed)"
   ]
  },
  {
   "cell_type": "code",
   "execution_count": 8,
   "id": "db247cb8",
   "metadata": {},
   "outputs": [
    {
     "data": {
      "text/html": [
       "<style>#sk-container-id-1 {color: black;}#sk-container-id-1 pre{padding: 0;}#sk-container-id-1 div.sk-toggleable {background-color: white;}#sk-container-id-1 label.sk-toggleable__label {cursor: pointer;display: block;width: 100%;margin-bottom: 0;padding: 0.3em;box-sizing: border-box;text-align: center;}#sk-container-id-1 label.sk-toggleable__label-arrow:before {content: \"▸\";float: left;margin-right: 0.25em;color: #696969;}#sk-container-id-1 label.sk-toggleable__label-arrow:hover:before {color: black;}#sk-container-id-1 div.sk-estimator:hover label.sk-toggleable__label-arrow:before {color: black;}#sk-container-id-1 div.sk-toggleable__content {max-height: 0;max-width: 0;overflow: hidden;text-align: left;background-color: #f0f8ff;}#sk-container-id-1 div.sk-toggleable__content pre {margin: 0.2em;color: black;border-radius: 0.25em;background-color: #f0f8ff;}#sk-container-id-1 input.sk-toggleable__control:checked~div.sk-toggleable__content {max-height: 200px;max-width: 100%;overflow: auto;}#sk-container-id-1 input.sk-toggleable__control:checked~label.sk-toggleable__label-arrow:before {content: \"▾\";}#sk-container-id-1 div.sk-estimator input.sk-toggleable__control:checked~label.sk-toggleable__label {background-color: #d4ebff;}#sk-container-id-1 div.sk-label input.sk-toggleable__control:checked~label.sk-toggleable__label {background-color: #d4ebff;}#sk-container-id-1 input.sk-hidden--visually {border: 0;clip: rect(1px 1px 1px 1px);clip: rect(1px, 1px, 1px, 1px);height: 1px;margin: -1px;overflow: hidden;padding: 0;position: absolute;width: 1px;}#sk-container-id-1 div.sk-estimator {font-family: monospace;background-color: #f0f8ff;border: 1px dotted black;border-radius: 0.25em;box-sizing: border-box;margin-bottom: 0.5em;}#sk-container-id-1 div.sk-estimator:hover {background-color: #d4ebff;}#sk-container-id-1 div.sk-parallel-item::after {content: \"\";width: 100%;border-bottom: 1px solid gray;flex-grow: 1;}#sk-container-id-1 div.sk-label:hover label.sk-toggleable__label {background-color: #d4ebff;}#sk-container-id-1 div.sk-serial::before {content: \"\";position: absolute;border-left: 1px solid gray;box-sizing: border-box;top: 0;bottom: 0;left: 50%;z-index: 0;}#sk-container-id-1 div.sk-serial {display: flex;flex-direction: column;align-items: center;background-color: white;padding-right: 0.2em;padding-left: 0.2em;position: relative;}#sk-container-id-1 div.sk-item {position: relative;z-index: 1;}#sk-container-id-1 div.sk-parallel {display: flex;align-items: stretch;justify-content: center;background-color: white;position: relative;}#sk-container-id-1 div.sk-item::before, #sk-container-id-1 div.sk-parallel-item::before {content: \"\";position: absolute;border-left: 1px solid gray;box-sizing: border-box;top: 0;bottom: 0;left: 50%;z-index: -1;}#sk-container-id-1 div.sk-parallel-item {display: flex;flex-direction: column;z-index: 1;position: relative;background-color: white;}#sk-container-id-1 div.sk-parallel-item:first-child::after {align-self: flex-end;width: 50%;}#sk-container-id-1 div.sk-parallel-item:last-child::after {align-self: flex-start;width: 50%;}#sk-container-id-1 div.sk-parallel-item:only-child::after {width: 0;}#sk-container-id-1 div.sk-dashed-wrapped {border: 1px dashed gray;margin: 0 0.4em 0.5em 0.4em;box-sizing: border-box;padding-bottom: 0.4em;background-color: white;}#sk-container-id-1 div.sk-label label {font-family: monospace;font-weight: bold;display: inline-block;line-height: 1.2em;}#sk-container-id-1 div.sk-label-container {text-align: center;}#sk-container-id-1 div.sk-container {/* jupyter's `normalize.less` sets `[hidden] { display: none; }` but bootstrap.min.css set `[hidden] { display: none !important; }` so we also need the `!important` here to be able to override the default hidden behavior on the sphinx rendered scikit-learn.org. See: https://github.com/scikit-learn/scikit-learn/issues/21755 */display: inline-block !important;position: relative;}#sk-container-id-1 div.sk-text-repr-fallback {display: none;}</style><div id=\"sk-container-id-1\" class=\"sk-top-container\"><div class=\"sk-text-repr-fallback\"><pre>DecisionTreeRegressor(max_depth=1, random_state=1)</pre><b>In a Jupyter environment, please rerun this cell to show the HTML representation or trust the notebook. <br />On GitHub, the HTML representation is unable to render, please try loading this page with nbviewer.org.</b></div><div class=\"sk-container\" hidden><div class=\"sk-item\"><div class=\"sk-estimator sk-toggleable\"><input class=\"sk-toggleable__control sk-hidden--visually\" id=\"sk-estimator-id-1\" type=\"checkbox\" checked><label for=\"sk-estimator-id-1\" class=\"sk-toggleable__label sk-toggleable__label-arrow\">DecisionTreeRegressor</label><div class=\"sk-toggleable__content\"><pre>DecisionTreeRegressor(max_depth=1, random_state=1)</pre></div></div></div></div></div>"
      ],
      "text/plain": [
       "DecisionTreeRegressor(max_depth=1, random_state=1)"
      ]
     },
     "execution_count": 8,
     "metadata": {},
     "output_type": "execute_result"
    }
   ],
   "source": [
    "model.fit(X_train, y_train)"
   ]
  },
  {
   "cell_type": "code",
   "execution_count": 9,
   "id": "5a43c813",
   "metadata": {},
   "outputs": [
    {
     "name": "stdout",
     "output_type": "stream",
     "text": [
      "|--- ocean_proximity=<1H OCEAN <= 0.50\n",
      "|   |--- value: [11.61]\n",
      "|--- ocean_proximity=<1H OCEAN >  0.50\n",
      "|   |--- value: [12.30]\n",
      "\n"
     ]
    }
   ],
   "source": [
    "print(export_text(model, feature_names=list(dv.get_feature_names_out())))"
   ]
  },
  {
   "cell_type": "markdown",
   "id": "bfbd0870",
   "metadata": {},
   "source": [
    "> **Answer 1**: `ocean_proximity`"
   ]
  },
  {
   "cell_type": "markdown",
   "id": "87b2b6e7",
   "metadata": {},
   "source": [
    "## Question 2\n",
    "\n",
    "Train a random forest model with these parameters:\n",
    "\n",
    "* `n_estimators=10`\n",
    "* `random_state=1`\n",
    "* `n_jobs=-1` (optional - to make training faster)\n",
    "\n",
    "\n",
    "What's the RMSE of this model on validation?\n",
    "\n",
    "* 0.045\n",
    "* 0.245\n",
    "* 0.545\n",
    "* 0.845"
   ]
  },
  {
   "cell_type": "code",
   "execution_count": 10,
   "id": "29789526",
   "metadata": {},
   "outputs": [
    {
     "data": {
      "text/html": [
       "<style>#sk-container-id-2 {color: black;}#sk-container-id-2 pre{padding: 0;}#sk-container-id-2 div.sk-toggleable {background-color: white;}#sk-container-id-2 label.sk-toggleable__label {cursor: pointer;display: block;width: 100%;margin-bottom: 0;padding: 0.3em;box-sizing: border-box;text-align: center;}#sk-container-id-2 label.sk-toggleable__label-arrow:before {content: \"▸\";float: left;margin-right: 0.25em;color: #696969;}#sk-container-id-2 label.sk-toggleable__label-arrow:hover:before {color: black;}#sk-container-id-2 div.sk-estimator:hover label.sk-toggleable__label-arrow:before {color: black;}#sk-container-id-2 div.sk-toggleable__content {max-height: 0;max-width: 0;overflow: hidden;text-align: left;background-color: #f0f8ff;}#sk-container-id-2 div.sk-toggleable__content pre {margin: 0.2em;color: black;border-radius: 0.25em;background-color: #f0f8ff;}#sk-container-id-2 input.sk-toggleable__control:checked~div.sk-toggleable__content {max-height: 200px;max-width: 100%;overflow: auto;}#sk-container-id-2 input.sk-toggleable__control:checked~label.sk-toggleable__label-arrow:before {content: \"▾\";}#sk-container-id-2 div.sk-estimator input.sk-toggleable__control:checked~label.sk-toggleable__label {background-color: #d4ebff;}#sk-container-id-2 div.sk-label input.sk-toggleable__control:checked~label.sk-toggleable__label {background-color: #d4ebff;}#sk-container-id-2 input.sk-hidden--visually {border: 0;clip: rect(1px 1px 1px 1px);clip: rect(1px, 1px, 1px, 1px);height: 1px;margin: -1px;overflow: hidden;padding: 0;position: absolute;width: 1px;}#sk-container-id-2 div.sk-estimator {font-family: monospace;background-color: #f0f8ff;border: 1px dotted black;border-radius: 0.25em;box-sizing: border-box;margin-bottom: 0.5em;}#sk-container-id-2 div.sk-estimator:hover {background-color: #d4ebff;}#sk-container-id-2 div.sk-parallel-item::after {content: \"\";width: 100%;border-bottom: 1px solid gray;flex-grow: 1;}#sk-container-id-2 div.sk-label:hover label.sk-toggleable__label {background-color: #d4ebff;}#sk-container-id-2 div.sk-serial::before {content: \"\";position: absolute;border-left: 1px solid gray;box-sizing: border-box;top: 0;bottom: 0;left: 50%;z-index: 0;}#sk-container-id-2 div.sk-serial {display: flex;flex-direction: column;align-items: center;background-color: white;padding-right: 0.2em;padding-left: 0.2em;position: relative;}#sk-container-id-2 div.sk-item {position: relative;z-index: 1;}#sk-container-id-2 div.sk-parallel {display: flex;align-items: stretch;justify-content: center;background-color: white;position: relative;}#sk-container-id-2 div.sk-item::before, #sk-container-id-2 div.sk-parallel-item::before {content: \"\";position: absolute;border-left: 1px solid gray;box-sizing: border-box;top: 0;bottom: 0;left: 50%;z-index: -1;}#sk-container-id-2 div.sk-parallel-item {display: flex;flex-direction: column;z-index: 1;position: relative;background-color: white;}#sk-container-id-2 div.sk-parallel-item:first-child::after {align-self: flex-end;width: 50%;}#sk-container-id-2 div.sk-parallel-item:last-child::after {align-self: flex-start;width: 50%;}#sk-container-id-2 div.sk-parallel-item:only-child::after {width: 0;}#sk-container-id-2 div.sk-dashed-wrapped {border: 1px dashed gray;margin: 0 0.4em 0.5em 0.4em;box-sizing: border-box;padding-bottom: 0.4em;background-color: white;}#sk-container-id-2 div.sk-label label {font-family: monospace;font-weight: bold;display: inline-block;line-height: 1.2em;}#sk-container-id-2 div.sk-label-container {text-align: center;}#sk-container-id-2 div.sk-container {/* jupyter's `normalize.less` sets `[hidden] { display: none; }` but bootstrap.min.css set `[hidden] { display: none !important; }` so we also need the `!important` here to be able to override the default hidden behavior on the sphinx rendered scikit-learn.org. See: https://github.com/scikit-learn/scikit-learn/issues/21755 */display: inline-block !important;position: relative;}#sk-container-id-2 div.sk-text-repr-fallback {display: none;}</style><div id=\"sk-container-id-2\" class=\"sk-top-container\"><div class=\"sk-text-repr-fallback\"><pre>RandomForestRegressor(n_estimators=10, n_jobs=-1, random_state=1)</pre><b>In a Jupyter environment, please rerun this cell to show the HTML representation or trust the notebook. <br />On GitHub, the HTML representation is unable to render, please try loading this page with nbviewer.org.</b></div><div class=\"sk-container\" hidden><div class=\"sk-item\"><div class=\"sk-estimator sk-toggleable\"><input class=\"sk-toggleable__control sk-hidden--visually\" id=\"sk-estimator-id-2\" type=\"checkbox\" checked><label for=\"sk-estimator-id-2\" class=\"sk-toggleable__label sk-toggleable__label-arrow\">RandomForestRegressor</label><div class=\"sk-toggleable__content\"><pre>RandomForestRegressor(n_estimators=10, n_jobs=-1, random_state=1)</pre></div></div></div></div></div>"
      ],
      "text/plain": [
       "RandomForestRegressor(n_estimators=10, n_jobs=-1, random_state=1)"
      ]
     },
     "execution_count": 10,
     "metadata": {},
     "output_type": "execute_result"
    }
   ],
   "source": [
    "model = RandomForestRegressor(n_estimators=10, random_state=random_seed, n_jobs=-1)\n",
    "model.fit(X_train, y_train)"
   ]
  },
  {
   "cell_type": "code",
   "execution_count": 11,
   "id": "db154530",
   "metadata": {},
   "outputs": [
    {
     "data": {
      "text/plain": [
       "0.245"
      ]
     },
     "execution_count": 11,
     "metadata": {},
     "output_type": "execute_result"
    }
   ],
   "source": [
    "np.sqrt(mean_squared_error(model.predict(X_val), y_val)).round(4)"
   ]
  },
  {
   "cell_type": "markdown",
   "id": "dbd91c93",
   "metadata": {},
   "source": [
    "> **Answer 2**: `0.245`"
   ]
  },
  {
   "cell_type": "markdown",
   "id": "716e3d14",
   "metadata": {},
   "source": [
    "## Question 3\n",
    "\n",
    "Now let's experiment with the `n_estimators` parameter\n",
    "\n",
    "* Try different values of this parameter from 10 to 200 with step 10.\n",
    "* Set `random_state` to `1`.\n",
    "* Evaluate the model on the validation dataset.\n",
    "\n",
    "\n",
    "After which value of `n_estimators` does RMSE stop improving?\n",
    "Consider 3 decimal places for retrieving the answer.\n",
    "\n",
    "- 10\n",
    "- 25\n",
    "- 50\n",
    "- 160"
   ]
  },
  {
   "cell_type": "code",
   "execution_count": 12,
   "id": "ba7d56f2",
   "metadata": {},
   "outputs": [
    {
     "name": "stdout",
     "output_type": "stream",
     "text": [
      "n_estimator=  10\n",
      "n_estimator=  20\n",
      "n_estimator=  30\n",
      "n_estimator=  40\n",
      "n_estimator=  50\n",
      "n_estimator=  60\n",
      "n_estimator=  70\n",
      "n_estimator=  80\n",
      "n_estimator=  90\n",
      "n_estimator= 100\n",
      "n_estimator= 110\n",
      "n_estimator= 120\n",
      "n_estimator= 130\n",
      "n_estimator= 140\n",
      "n_estimator= 150\n",
      "n_estimator= 160\n",
      "n_estimator= 170\n",
      "n_estimator= 180\n",
      "n_estimator= 190\n",
      "n_estimator= 200\n"
     ]
    }
   ],
   "source": [
    "rmses = []\n",
    "\n",
    "for n_estimator in np.arange(10, 201, 10):\n",
    "    print(f'{n_estimator=:4d}')\n",
    "    model = RandomForestRegressor(n_estimators=n_estimator, random_state=random_seed, n_jobs=-1)\n",
    "    model.fit(X_train, y_train)\n",
    "    rmses.append(\n",
    "        (\n",
    "            n_estimator, \n",
    "            np.sqrt(mean_squared_error(model.predict(X_val), y_val)).round(3)\n",
    "        )\n",
    "    )"
   ]
  },
  {
   "cell_type": "code",
   "execution_count": 13,
   "id": "4115c5f1",
   "metadata": {},
   "outputs": [
    {
     "data": {
      "image/png": "[encoded data removed]",
      "text/plain": [
       "<Figure size 640x480 with 1 Axes>"
      ]
     },
     "metadata": {},
     "output_type": "display_data"
    }
   ],
   "source": [
    "dft = pd.DataFrame(rmses, index=[v[0] for v in rmses], columns=['n_estimators', 'rmse'])\n",
    "dft.plot(x='n_estimators', y='rmse');\n",
    "plt.grid('both');\n",
    "plt.xticks([10, 25, 50, 160]);"
   ]
  },
  {
   "cell_type": "code",
   "execution_count": 14,
   "id": "fea03dee",
   "metadata": {},
   "outputs": [
    {
     "data": {
      "text/plain": [
       "160"
      ]
     },
     "execution_count": 14,
     "metadata": {},
     "output_type": "execute_result"
    }
   ],
   "source": [
    "dft.rmse.idxmin()"
   ]
  },
  {
   "cell_type": "markdown",
   "id": "0619f0b6",
   "metadata": {},
   "source": [
    "> **Answer 3**: `160`"
   ]
  },
  {
   "cell_type": "markdown",
   "id": "9fc2c512",
   "metadata": {},
   "source": [
    "## Question 4\n",
    "\n",
    "Let's select the best `max_depth`:\n",
    "\n",
    "* Try different values of `max_depth`: `[10, 15, 20, 25]`\n",
    "* For each of these values,\n",
    "  * try different values of `n_estimators` from 10 till 200 (with step 10)\n",
    "  * calculate the mean RMSE \n",
    "* Fix the random seed: `random_state=1`\n",
    "\n",
    "\n",
    "What's the best `max_depth`, using the mean RMSE?\n",
    "\n",
    "* 10\n",
    "* 15\n",
    "* 20\n",
    "* 25"
   ]
  },
  {
   "cell_type": "code",
   "execution_count": 15,
   "id": "44a01fd6",
   "metadata": {},
   "outputs": [
    {
     "name": "stdout",
     "output_type": "stream",
     "text": [
      "max_depth=10\n",
      "max_depth=15\n",
      "max_depth=20\n",
      "max_depth=25\n"
     ]
    }
   ],
   "source": [
    "rmses = {}\n",
    "\n",
    "for max_depth in [10, 15, 20, 25]:\n",
    "    print(f'{max_depth=}')\n",
    "    rmses[max_depth] = []\n",
    "    for n_estimator in np.arange(10, 201, 10):\n",
    "        # print(f'{n_estimator=:4d}')\n",
    "        model = RandomForestRegressor(max_depth=max_depth, n_estimators=n_estimator, random_state=random_seed, n_jobs=-1)\n",
    "        model.fit(X_train, y_train)\n",
    "        rmses[max_depth].append(\n",
    "            np.sqrt(\n",
    "                mean_squared_error(\n",
    "                    model.predict(X_val), \n",
    "                    y_val\n",
    "                )\n",
    "            ).round(3)\n",
    "        )\n",
    "        \n",
    "    rmses[max_depth] = np.mean(rmses[max_depth])"
   ]
  },
  {
   "cell_type": "code",
   "execution_count": 16,
   "id": "a563a740",
   "metadata": {},
   "outputs": [
    {
     "data": {
      "text/plain": [
       "10    0.24540\n",
       "15    0.23600\n",
       "20    0.23535\n",
       "25    0.23490\n",
       "dtype: float64"
      ]
     },
     "metadata": {},
     "output_type": "display_data"
    },
    {
     "data": {
      "image/png": "[encoded data removed]",
      "text/plain": [
       "<Figure size 640x480 with 1 Axes>"
      ]
     },
     "metadata": {},
     "output_type": "display_data"
    }
   ],
   "source": [
    "dft = pd.Series(rmses)\n",
    "dft.plot(marker='x');\n",
    "plt.xticks(dft.index);\n",
    "display(dft)"
   ]
  },
  {
   "cell_type": "markdown",
   "id": "f79756da",
   "metadata": {},
   "source": [
    "> **Answer 4**: `25`"
   ]
  },
  {
   "cell_type": "markdown",
   "id": "cbc57d53",
   "metadata": {},
   "source": [
    "# Question 5\n",
    "\n",
    "We can extract feature importance information from tree-based models. \n",
    "\n",
    "At each step of the decision tree learning algorithm, it finds the best split. \n",
    "When doing it, we can calculate \"gain\" - the reduction in impurity before and after the split. \n",
    "This gain is quite useful in understanding what are the important features for tree-based models.\n",
    "\n",
    "In Scikit-Learn, tree-based models contain this information in the\n",
    "[`feature_importances_`](https://scikit-learn.org/stable/modules/generated/sklearn.ensemble.RandomForestRegressor.html#sklearn.ensemble.RandomForestRegressor.feature_importances_)\n",
    "field. \n",
    "\n",
    "For this homework question, we'll find the most important feature:\n",
    "\n",
    "* Train the model with these parameters:\n",
    "  * `n_estimators=10`,\n",
    "  * `max_depth=20`,\n",
    "  * `random_state=1`,\n",
    "  * `n_jobs=-1` (optional)\n",
    "* Get the feature importance information from this model\n",
    "\n",
    "\n",
    "What's the most important feature (among these 4)? \n",
    "\n",
    "* `total_rooms`\n",
    "* `median_income`\n",
    "* `total_bedrooms`\n",
    "* `longitude`"
   ]
  },
  {
   "cell_type": "code",
   "execution_count": 17,
   "id": "c542efb0",
   "metadata": {},
   "outputs": [
    {
     "data": {
      "text/html": [
       "<style>#sk-container-id-3 {color: black;}#sk-container-id-3 pre{padding: 0;}#sk-container-id-3 div.sk-toggleable {background-color: white;}#sk-container-id-3 label.sk-toggleable__label {cursor: pointer;display: block;width: 100%;margin-bottom: 0;padding: 0.3em;box-sizing: border-box;text-align: center;}#sk-container-id-3 label.sk-toggleable__label-arrow:before {content: \"▸\";float: left;margin-right: 0.25em;color: #696969;}#sk-container-id-3 label.sk-toggleable__label-arrow:hover:before {color: black;}#sk-container-id-3 div.sk-estimator:hover label.sk-toggleable__label-arrow:before {color: black;}#sk-container-id-3 div.sk-toggleable__content {max-height: 0;max-width: 0;overflow: hidden;text-align: left;background-color: #f0f8ff;}#sk-container-id-3 div.sk-toggleable__content pre {margin: 0.2em;color: black;border-radius: 0.25em;background-color: #f0f8ff;}#sk-container-id-3 input.sk-toggleable__control:checked~div.sk-toggleable__content {max-height: 200px;max-width: 100%;overflow: auto;}#sk-container-id-3 input.sk-toggleable__control:checked~label.sk-toggleable__label-arrow:before {content: \"▾\";}#sk-container-id-3 div.sk-estimator input.sk-toggleable__control:checked~label.sk-toggleable__label {background-color: #d4ebff;}#sk-container-id-3 div.sk-label input.sk-toggleable__control:checked~label.sk-toggleable__label {background-color: #d4ebff;}#sk-container-id-3 input.sk-hidden--visually {border: 0;clip: rect(1px 1px 1px 1px);clip: rect(1px, 1px, 1px, 1px);height: 1px;margin: -1px;overflow: hidden;padding: 0;position: absolute;width: 1px;}#sk-container-id-3 div.sk-estimator {font-family: monospace;background-color: #f0f8ff;border: 1px dotted black;border-radius: 0.25em;box-sizing: border-box;margin-bottom: 0.5em;}#sk-container-id-3 div.sk-estimator:hover {background-color: #d4ebff;}#sk-container-id-3 div.sk-parallel-item::after {content: \"\";width: 100%;border-bottom: 1px solid gray;flex-grow: 1;}#sk-container-id-3 div.sk-label:hover label.sk-toggleable__label {background-color: #d4ebff;}#sk-container-id-3 div.sk-serial::before {content: \"\";position: absolute;border-left: 1px solid gray;box-sizing: border-box;top: 0;bottom: 0;left: 50%;z-index: 0;}#sk-container-id-3 div.sk-serial {display: flex;flex-direction: column;align-items: center;background-color: white;padding-right: 0.2em;padding-left: 0.2em;position: relative;}#sk-container-id-3 div.sk-item {position: relative;z-index: 1;}#sk-container-id-3 div.sk-parallel {display: flex;align-items: stretch;justify-content: center;background-color: white;position: relative;}#sk-container-id-3 div.sk-item::before, #sk-container-id-3 div.sk-parallel-item::before {content: \"\";position: absolute;border-left: 1px solid gray;box-sizing: border-box;top: 0;bottom: 0;left: 50%;z-index: -1;}#sk-container-id-3 div.sk-parallel-item {display: flex;flex-direction: column;z-index: 1;position: relative;background-color: white;}#sk-container-id-3 div.sk-parallel-item:first-child::after {align-self: flex-end;width: 50%;}#sk-container-id-3 div.sk-parallel-item:last-child::after {align-self: flex-start;width: 50%;}#sk-container-id-3 div.sk-parallel-item:only-child::after {width: 0;}#sk-container-id-3 div.sk-dashed-wrapped {border: 1px dashed gray;margin: 0 0.4em 0.5em 0.4em;box-sizing: border-box;padding-bottom: 0.4em;background-color: white;}#sk-container-id-3 div.sk-label label {font-family: monospace;font-weight: bold;display: inline-block;line-height: 1.2em;}#sk-container-id-3 div.sk-label-container {text-align: center;}#sk-container-id-3 div.sk-container {/* jupyter's `normalize.less` sets `[hidden] { display: none; }` but bootstrap.min.css set `[hidden] { display: none !important; }` so we also need the `!important` here to be able to override the default hidden behavior on the sphinx rendered scikit-learn.org. See: https://github.com/scikit-learn/scikit-learn/issues/21755 */display: inline-block !important;position: relative;}#sk-container-id-3 div.sk-text-repr-fallback {display: none;}</style><div id=\"sk-container-id-3\" class=\"sk-top-container\"><div class=\"sk-text-repr-fallback\"><pre>RandomForestRegressor(max_depth=20, n_estimators=10, n_jobs=-1, random_state=1)</pre><b>In a Jupyter environment, please rerun this cell to show the HTML representation or trust the notebook. <br />On GitHub, the HTML representation is unable to render, please try loading this page with nbviewer.org.</b></div><div class=\"sk-container\" hidden><div class=\"sk-item\"><div class=\"sk-estimator sk-toggleable\"><input class=\"sk-toggleable__control sk-hidden--visually\" id=\"sk-estimator-id-3\" type=\"checkbox\" checked><label for=\"sk-estimator-id-3\" class=\"sk-toggleable__label sk-toggleable__label-arrow\">RandomForestRegressor</label><div class=\"sk-toggleable__content\"><pre>RandomForestRegressor(max_depth=20, n_estimators=10, n_jobs=-1, random_state=1)</pre></div></div></div></div></div>"
      ],
      "text/plain": [
       "RandomForestRegressor(max_depth=20, n_estimators=10, n_jobs=-1, random_state=1)"
      ]
     },
     "execution_count": 17,
     "metadata": {},
     "output_type": "execute_result"
    }
   ],
   "source": [
    "model = RandomForestRegressor(max_depth=20, n_estimators=10, random_state=random_seed, n_jobs=-1)\n",
    "model.fit(X_train, y_train)"
   ]
  },
  {
   "cell_type": "code",
   "execution_count": 18,
   "id": "fa0740c5",
   "metadata": {},
   "outputs": [
    {
     "data": {
      "text/plain": [
       "array([0.01495348, 0.03019435, 0.10189142, 0.0861758 , 0.33566849,\n",
       "       0.29247297, 0.07380644, 0.02682069, 0.01624481, 0.02177155])"
      ]
     },
     "execution_count": 18,
     "metadata": {},
     "output_type": "execute_result"
    }
   ],
   "source": [
    "model.feature_importances_"
   ]
  },
  {
   "cell_type": "code",
   "execution_count": 19,
   "id": "d19bc382",
   "metadata": {},
   "outputs": [
    {
     "data": {
      "text/plain": [
       "['households',\n",
       " 'housing_median_age',\n",
       " 'latitude',\n",
       " 'longitude',\n",
       " 'median_income',\n",
       " 'ocean_proximity=<1H OCEAN',\n",
       " 'ocean_proximity=INLAND',\n",
       " 'population',\n",
       " 'total_bedrooms',\n",
       " 'total_rooms']"
      ]
     },
     "execution_count": 19,
     "metadata": {},
     "output_type": "execute_result"
    }
   ],
   "source": [
    "dv.feature_names_"
   ]
  },
  {
   "cell_type": "code",
   "execution_count": 20,
   "id": "de965716",
   "metadata": {},
   "outputs": [
    {
     "data": {
      "text/plain": [
       "median_income     0.335668\n",
       "longitude         0.086176\n",
       "total_rooms       0.021772\n",
       "total_bedrooms    0.016245\n",
       "dtype: float64"
      ]
     },
     "execution_count": 20,
     "metadata": {},
     "output_type": "execute_result"
    }
   ],
   "source": [
    "s = pd.Series(model.feature_importances_, index=dv.feature_names_)\n",
    "s.loc[['total_rooms', 'median_income', 'total_bedrooms', 'longitude']].sort_values(ascending=False)"
   ]
  },
  {
   "cell_type": "markdown",
   "id": "8d761c63",
   "metadata": {},
   "source": [
    "> **Answer 5**: `median_income`"
   ]
  },
  {
   "cell_type": "markdown",
   "id": "51ccef45",
   "metadata": {},
   "source": [
    "## Question 6\n",
    "\n",
    "Now let's train an XGBoost model! For this question, we'll tune the `eta` parameter:\n",
    "\n",
    "* Install XGBoost\n",
    "* Create DMatrix for train and validation\n",
    "* Create a watchlist\n",
    "* Train a model with these parameters for 100 rounds:\n",
    "\n",
    "```\n",
    "xgb_params = {\n",
    "    'eta': 0.3, \n",
    "    'max_depth': 6,\n",
    "    'min_child_weight': 1,\n",
    "    \n",
    "    'objective': 'reg:squarederror',\n",
    "    'nthread': 8,\n",
    "    \n",
    "    'seed': 1,\n",
    "    'verbosity': 1,\n",
    "}\n",
    "```\n",
    "\n",
    "Now change `eta` from `0.3` to `0.1`.\n",
    "\n",
    "Which eta leads to the best RMSE score on the validation dataset?\n",
    "\n",
    "* 0.3\n",
    "* 0.1\n",
    "* Both give equal value"
   ]
  },
  {
   "cell_type": "code",
   "execution_count": 21,
   "id": "a1d65921",
   "metadata": {},
   "outputs": [
    {
     "data": {
      "text/plain": [
       "['households',\n",
       " 'housing_median_age',\n",
       " 'latitude',\n",
       " 'longitude',\n",
       " 'median_income',\n",
       " 'ocean_proximity=<1H OCEAN',\n",
       " 'ocean_proximity=INLAND',\n",
       " 'population',\n",
       " 'total_bedrooms',\n",
       " 'total_rooms']"
      ]
     },
     "execution_count": 21,
     "metadata": {},
     "output_type": "execute_result"
    }
   ],
   "source": [
    "list(dv.get_feature_names_out())"
   ]
  },
  {
   "cell_type": "code",
   "execution_count": 22,
   "id": "b5239140",
   "metadata": {},
   "outputs": [
    {
     "name": "stderr",
     "output_type": "stream",
     "text": [
      "/home/ubuntu/.pyenv/versions/3.11.3/lib/python3.11/site-packages/xgboost/data.py:520: FutureWarning: is_sparse is deprecated and will be removed in a future version. Check `isinstance(dtype, pd.SparseDtype)` instead.\n",
      "  if is_sparse(data):\n"
     ]
    }
   ],
   "source": [
    "features = [f.replace('<', '_') for f in list(dv.get_feature_names_out())]\n",
    "dtrain = xgb.DMatrix(X_train, label=y_train, feature_names=features)\n",
    "dval = xgb.DMatrix(X_val, label=y_val, feature_names=features)"
   ]
  },
  {
   "cell_type": "code",
   "execution_count": 23,
   "id": "a2d907ee",
   "metadata": {},
   "outputs": [],
   "source": [
    "xgb_params = {\n",
    "    'eta': 0.3, \n",
    "    'max_depth': 6,\n",
    "    'min_child_weight': 1,\n",
    "    \n",
    "    'objective': 'reg:squarederror',\n",
    "    'nthread': 8,\n",
    "    \n",
    "    'seed': 1,\n",
    "    'verbosity': 1,\n",
    "}\n",
    "\n",
    "watchlist = [(dtrain, 'train'), (dval, 'val')]\n",
    "scores = {}"
   ]
  },
  {
   "cell_type": "code",
   "execution_count": 24,
   "id": "9986a128",
   "metadata": {},
   "outputs": [
    {
     "name": "stdout",
     "output_type": "stream",
     "text": [
      "[0]\ttrain-rmse:0.44350\tval-rmse:0.44250\n",
      "[1]\ttrain-rmse:0.36599\tval-rmse:0.36916\n",
      "[2]\ttrain-rmse:0.31556\tval-rmse:0.32382\n",
      "[3]\ttrain-rmse:0.28541\tval-rmse:0.29965\n",
      "[4]\ttrain-rmse:0.26573\tval-rmse:0.28417\n",
      "[5]\ttrain-rmse:0.25338\tval-rmse:0.27463\n",
      "[6]\ttrain-rmse:0.24157\tval-rmse:0.26770\n",
      "[7]\ttrain-rmse:0.23486\tval-rmse:0.26423\n",
      "[8]\ttrain-rmse:0.22668\tval-rmse:0.25820\n",
      "[9]\ttrain-rmse:0.21995\tval-rmse:0.25444\n",
      "[10]\ttrain-rmse:0.21444\tval-rmse:0.25179\n",
      "[11]\ttrain-rmse:0.21155\tval-rmse:0.25054\n",
      "[12]\ttrain-rmse:0.20729\tval-rmse:0.24791\n",
      "[13]\ttrain-rmse:0.20317\tval-rmse:0.24628\n",
      "[14]\ttrain-rmse:0.20135\tval-rmse:0.24630\n",
      "[15]\ttrain-rmse:0.19858\tval-rmse:0.24522\n",
      "[16]\ttrain-rmse:0.19580\tval-rmse:0.24445\n",
      "[17]\ttrain-rmse:0.19333\tval-rmse:0.24395\n",
      "[18]\ttrain-rmse:0.19107\tval-rmse:0.24284\n",
      "[19]\ttrain-rmse:0.18735\tval-rmse:0.24127\n",
      "[20]\ttrain-rmse:0.18524\tval-rmse:0.23978\n",
      "[21]\ttrain-rmse:0.18332\tval-rmse:0.23963\n",
      "[22]\ttrain-rmse:0.18189\tval-rmse:0.23892\n",
      "[23]\ttrain-rmse:0.18006\tval-rmse:0.23847\n",
      "[24]\ttrain-rmse:0.17869\tval-rmse:0.23847\n",
      "[25]\ttrain-rmse:0.17757\tval-rmse:0.23830\n",
      "[26]\ttrain-rmse:0.17520\tval-rmse:0.23862\n",
      "[27]\ttrain-rmse:0.17430\tval-rmse:0.23807\n",
      "[28]\ttrain-rmse:0.17281\tval-rmse:0.23793\n",
      "[29]\ttrain-rmse:0.17091\tval-rmse:0.23683\n",
      "[30]\ttrain-rmse:0.16888\tval-rmse:0.23570\n",
      "[31]\ttrain-rmse:0.16727\tval-rmse:0.23505\n",
      "[32]\ttrain-rmse:0.16553\tval-rmse:0.23494\n",
      "[33]\ttrain-rmse:0.16453\tval-rmse:0.23476\n",
      "[34]\ttrain-rmse:0.16292\tval-rmse:0.23490\n",
      "[35]\ttrain-rmse:0.16113\tval-rmse:0.23416\n",
      "[36]\ttrain-rmse:0.15969\tval-rmse:0.23402\n",
      "[37]\ttrain-rmse:0.15859\tval-rmse:0.23362\n",
      "[38]\ttrain-rmse:0.15726\tval-rmse:0.23393\n",
      "[39]\ttrain-rmse:0.15663\tval-rmse:0.23383\n",
      "[40]\ttrain-rmse:0.15542\tval-rmse:0.23318\n",
      "[41]\ttrain-rmse:0.15426\tval-rmse:0.23300\n",
      "[42]\ttrain-rmse:0.15289\tval-rmse:0.23266\n",
      "[43]\ttrain-rmse:0.15189\tval-rmse:0.23252\n",
      "[44]\ttrain-rmse:0.15092\tval-rmse:0.23252\n",
      "[45]\ttrain-rmse:0.14941\tval-rmse:0.23190\n",
      "[46]\ttrain-rmse:0.14856\tval-rmse:0.23178\n",
      "[47]\ttrain-rmse:0.14742\tval-rmse:0.23183\n",
      "[48]\ttrain-rmse:0.14683\tval-rmse:0.23198\n",
      "[49]\ttrain-rmse:0.14629\tval-rmse:0.23206\n",
      "[50]\ttrain-rmse:0.14536\tval-rmse:0.23225\n",
      "[51]\ttrain-rmse:0.14450\tval-rmse:0.23225\n",
      "[52]\ttrain-rmse:0.14353\tval-rmse:0.23223\n",
      "[53]\ttrain-rmse:0.14276\tval-rmse:0.23199\n",
      "[54]\ttrain-rmse:0.14180\tval-rmse:0.23194\n",
      "[55]\ttrain-rmse:0.14150\tval-rmse:0.23197\n",
      "[56]\ttrain-rmse:0.14085\tval-rmse:0.23189\n",
      "[57]\ttrain-rmse:0.14020\tval-rmse:0.23177\n",
      "[58]\ttrain-rmse:0.13931\tval-rmse:0.23175\n",
      "[59]\ttrain-rmse:0.13816\tval-rmse:0.23148\n",
      "[60]\ttrain-rmse:0.13719\tval-rmse:0.23139\n",
      "[61]\ttrain-rmse:0.13640\tval-rmse:0.23179\n",
      "[62]\ttrain-rmse:0.13566\tval-rmse:0.23160\n",
      "[63]\ttrain-rmse:0.13439\tval-rmse:0.23151\n",
      "[64]\ttrain-rmse:0.13358\tval-rmse:0.23153\n",
      "[65]\ttrain-rmse:0.13259\tval-rmse:0.23158\n",
      "[66]\ttrain-rmse:0.13197\tval-rmse:0.23144\n",
      "[67]\ttrain-rmse:0.13175\tval-rmse:0.23148\n",
      "[68]\ttrain-rmse:0.13117\tval-rmse:0.23148\n",
      "[69]\ttrain-rmse:0.13046\tval-rmse:0.23137\n",
      "[70]\ttrain-rmse:0.12943\tval-rmse:0.23068\n",
      "[71]\ttrain-rmse:0.12894\tval-rmse:0.23064\n",
      "[72]\ttrain-rmse:0.12854\tval-rmse:0.23082\n",
      "[73]\ttrain-rmse:0.12741\tval-rmse:0.23059\n",
      "[74]\ttrain-rmse:0.12635\tval-rmse:0.23048\n",
      "[75]\ttrain-rmse:0.12555\tval-rmse:0.23039\n",
      "[76]\ttrain-rmse:0.12395\tval-rmse:0.22935\n",
      "[77]\ttrain-rmse:0.12342\tval-rmse:0.22941\n",
      "[78]\ttrain-rmse:0.12255\tval-rmse:0.22913\n",
      "[79]\ttrain-rmse:0.12220\tval-rmse:0.22889\n",
      "[80]\ttrain-rmse:0.12192\tval-rmse:0.22886\n",
      "[81]\ttrain-rmse:0.12126\tval-rmse:0.22903\n",
      "[82]\ttrain-rmse:0.12056\tval-rmse:0.22891\n",
      "[83]\ttrain-rmse:0.11995\tval-rmse:0.22885\n",
      "[84]\ttrain-rmse:0.11922\tval-rmse:0.22893\n",
      "[85]\ttrain-rmse:0.11854\tval-rmse:0.22888\n",
      "[86]\ttrain-rmse:0.11781\tval-rmse:0.22899\n",
      "[87]\ttrain-rmse:0.11692\tval-rmse:0.22908\n",
      "[88]\ttrain-rmse:0.11613\tval-rmse:0.22905\n",
      "[89]\ttrain-rmse:0.11557\tval-rmse:0.22886\n",
      "[90]\ttrain-rmse:0.11496\tval-rmse:0.22861\n",
      "[91]\ttrain-rmse:0.11461\tval-rmse:0.22874\n",
      "[92]\ttrain-rmse:0.11386\tval-rmse:0.22887\n",
      "[93]\ttrain-rmse:0.11342\tval-rmse:0.22895\n",
      "[94]\ttrain-rmse:0.11281\tval-rmse:0.22904\n",
      "[95]\ttrain-rmse:0.11211\tval-rmse:0.22908\n",
      "[96]\ttrain-rmse:0.11139\tval-rmse:0.22875\n",
      "[97]\ttrain-rmse:0.11089\tval-rmse:0.22864\n",
      "[98]\ttrain-rmse:0.11041\tval-rmse:0.22868\n",
      "[99]\ttrain-rmse:0.10989\tval-rmse:0.22862\n"
     ]
    }
   ],
   "source": [
    "rmses = {}\n",
    "model = xgb.train(xgb_params, dtrain, num_boost_round=100, evals=watchlist, evals_result=rmses)"
   ]
  },
  {
   "cell_type": "code",
   "execution_count": 25,
   "id": "ea76737d",
   "metadata": {},
   "outputs": [
    {
     "data": {
      "text/plain": [
       "(0.3, 0.10988594570678918, 0.22862318255329048)"
      ]
     },
     "execution_count": 25,
     "metadata": {},
     "output_type": "execute_result"
    }
   ],
   "source": [
    "xgb_params['eta'], rmses['train']['rmse'][-1], rmses['val']['rmse'][-1] "
   ]
  },
  {
   "cell_type": "code",
   "execution_count": 26,
   "id": "cd342d9d",
   "metadata": {},
   "outputs": [],
   "source": [
    "xgb_params['eta'] = 0.1"
   ]
  },
  {
   "cell_type": "code",
   "execution_count": 27,
   "id": "d73b4f68",
   "metadata": {},
   "outputs": [
    {
     "name": "stdout",
     "output_type": "stream",
     "text": [
      "[0]\ttrain-rmse:0.52449\tval-rmse:0.52045\n",
      "[1]\ttrain-rmse:0.48736\tval-rmse:0.48443\n",
      "[2]\ttrain-rmse:0.45433\tval-rmse:0.45293\n",
      "[3]\ttrain-rmse:0.42533\tval-rmse:0.42550\n",
      "[4]\ttrain-rmse:0.39987\tval-rmse:0.40144\n",
      "[5]\ttrain-rmse:0.37822\tval-rmse:0.38151\n",
      "[6]\ttrain-rmse:0.35887\tval-rmse:0.36393\n",
      "[7]\ttrain-rmse:0.34177\tval-rmse:0.34838\n",
      "[8]\ttrain-rmse:0.32701\tval-rmse:0.33492\n",
      "[9]\ttrain-rmse:0.31411\tval-rmse:0.32333\n",
      "[10]\ttrain-rmse:0.30326\tval-rmse:0.31427\n",
      "[11]\ttrain-rmse:0.29355\tval-rmse:0.30615\n",
      "[12]\ttrain-rmse:0.28519\tval-rmse:0.29922\n",
      "[13]\ttrain-rmse:0.27760\tval-rmse:0.29269\n",
      "[14]\ttrain-rmse:0.27116\tval-rmse:0.28796\n",
      "[15]\ttrain-rmse:0.26538\tval-rmse:0.28380\n",
      "[16]\ttrain-rmse:0.26012\tval-rmse:0.27970\n",
      "[17]\ttrain-rmse:0.25583\tval-rmse:0.27661\n",
      "[18]\ttrain-rmse:0.25203\tval-rmse:0.27388\n",
      "[19]\ttrain-rmse:0.24818\tval-rmse:0.27123\n",
      "[20]\ttrain-rmse:0.24512\tval-rmse:0.26882\n",
      "[21]\ttrain-rmse:0.24149\tval-rmse:0.26669\n",
      "[22]\ttrain-rmse:0.23895\tval-rmse:0.26478\n",
      "[23]\ttrain-rmse:0.23594\tval-rmse:0.26331\n",
      "[24]\ttrain-rmse:0.23305\tval-rmse:0.26141\n",
      "[25]\ttrain-rmse:0.23026\tval-rmse:0.25997\n",
      "[26]\ttrain-rmse:0.22720\tval-rmse:0.25799\n",
      "[27]\ttrain-rmse:0.22487\tval-rmse:0.25620\n",
      "[28]\ttrain-rmse:0.22268\tval-rmse:0.25494\n",
      "[29]\ttrain-rmse:0.22084\tval-rmse:0.25374\n",
      "[30]\ttrain-rmse:0.21887\tval-rmse:0.25266\n",
      "[31]\ttrain-rmse:0.21709\tval-rmse:0.25172\n",
      "[32]\ttrain-rmse:0.21505\tval-rmse:0.25075\n",
      "[33]\ttrain-rmse:0.21342\tval-rmse:0.24991\n",
      "[34]\ttrain-rmse:0.21168\tval-rmse:0.24882\n",
      "[35]\ttrain-rmse:0.21020\tval-rmse:0.24826\n",
      "[36]\ttrain-rmse:0.20878\tval-rmse:0.24779\n",
      "[37]\ttrain-rmse:0.20755\tval-rmse:0.24731\n",
      "[38]\ttrain-rmse:0.20625\tval-rmse:0.24668\n",
      "[39]\ttrain-rmse:0.20518\tval-rmse:0.24624\n",
      "[40]\ttrain-rmse:0.20392\tval-rmse:0.24539\n",
      "[41]\ttrain-rmse:0.20285\tval-rmse:0.24501\n",
      "[42]\ttrain-rmse:0.20172\tval-rmse:0.24435\n",
      "[43]\ttrain-rmse:0.20045\tval-rmse:0.24380\n",
      "[44]\ttrain-rmse:0.19900\tval-rmse:0.24311\n",
      "[45]\ttrain-rmse:0.19814\tval-rmse:0.24293\n",
      "[46]\ttrain-rmse:0.19628\tval-rmse:0.24184\n",
      "[47]\ttrain-rmse:0.19561\tval-rmse:0.24159\n",
      "[48]\ttrain-rmse:0.19464\tval-rmse:0.24131\n",
      "[49]\ttrain-rmse:0.19371\tval-rmse:0.24109\n",
      "[50]\ttrain-rmse:0.19215\tval-rmse:0.24020\n",
      "[51]\ttrain-rmse:0.19156\tval-rmse:0.24015\n",
      "[52]\ttrain-rmse:0.19059\tval-rmse:0.23979\n",
      "[53]\ttrain-rmse:0.18985\tval-rmse:0.23958\n",
      "[54]\ttrain-rmse:0.18931\tval-rmse:0.23930\n",
      "[55]\ttrain-rmse:0.18809\tval-rmse:0.23878\n",
      "[56]\ttrain-rmse:0.18734\tval-rmse:0.23853\n",
      "[57]\ttrain-rmse:0.18681\tval-rmse:0.23849\n",
      "[58]\ttrain-rmse:0.18623\tval-rmse:0.23836\n",
      "[59]\ttrain-rmse:0.18561\tval-rmse:0.23835\n",
      "[60]\ttrain-rmse:0.18457\tval-rmse:0.23791\n",
      "[61]\ttrain-rmse:0.18363\tval-rmse:0.23783\n",
      "[62]\ttrain-rmse:0.18310\tval-rmse:0.23788\n",
      "[63]\ttrain-rmse:0.18209\tval-rmse:0.23755\n",
      "[64]\ttrain-rmse:0.18150\tval-rmse:0.23735\n",
      "[65]\ttrain-rmse:0.18063\tval-rmse:0.23698\n",
      "[66]\ttrain-rmse:0.17998\tval-rmse:0.23681\n",
      "[67]\ttrain-rmse:0.17913\tval-rmse:0.23646\n",
      "[68]\ttrain-rmse:0.17843\tval-rmse:0.23628\n",
      "[69]\ttrain-rmse:0.17798\tval-rmse:0.23627\n",
      "[70]\ttrain-rmse:0.17741\tval-rmse:0.23622\n",
      "[71]\ttrain-rmse:0.17685\tval-rmse:0.23607\n",
      "[72]\ttrain-rmse:0.17617\tval-rmse:0.23584\n",
      "[73]\ttrain-rmse:0.17557\tval-rmse:0.23562\n",
      "[74]\ttrain-rmse:0.17522\tval-rmse:0.23537\n",
      "[75]\ttrain-rmse:0.17468\tval-rmse:0.23510\n",
      "[76]\ttrain-rmse:0.17432\tval-rmse:0.23503\n",
      "[77]\ttrain-rmse:0.17395\tval-rmse:0.23494\n",
      "[78]\ttrain-rmse:0.17334\tval-rmse:0.23482\n",
      "[79]\ttrain-rmse:0.17287\tval-rmse:0.23467\n",
      "[80]\ttrain-rmse:0.17242\tval-rmse:0.23453\n",
      "[81]\ttrain-rmse:0.17213\tval-rmse:0.23447\n",
      "[82]\ttrain-rmse:0.17139\tval-rmse:0.23431\n",
      "[83]\ttrain-rmse:0.17105\tval-rmse:0.23428\n",
      "[84]\ttrain-rmse:0.17063\tval-rmse:0.23413\n",
      "[85]\ttrain-rmse:0.17014\tval-rmse:0.23404\n",
      "[86]\ttrain-rmse:0.16966\tval-rmse:0.23401\n",
      "[87]\ttrain-rmse:0.16916\tval-rmse:0.23388\n",
      "[88]\ttrain-rmse:0.16882\tval-rmse:0.23364\n",
      "[89]\ttrain-rmse:0.16835\tval-rmse:0.23339\n",
      "[90]\ttrain-rmse:0.16797\tval-rmse:0.23332\n",
      "[91]\ttrain-rmse:0.16756\tval-rmse:0.23330\n",
      "[92]\ttrain-rmse:0.16707\tval-rmse:0.23298\n",
      "[93]\ttrain-rmse:0.16623\tval-rmse:0.23273\n",
      "[94]\ttrain-rmse:0.16586\tval-rmse:0.23279\n",
      "[95]\ttrain-rmse:0.16562\tval-rmse:0.23276\n",
      "[96]\ttrain-rmse:0.16524\tval-rmse:0.23266\n",
      "[97]\ttrain-rmse:0.16444\tval-rmse:0.23246\n",
      "[98]\ttrain-rmse:0.16383\tval-rmse:0.23222\n",
      "[99]\ttrain-rmse:0.16323\tval-rmse:0.23209\n"
     ]
    }
   ],
   "source": [
    "model = xgb.train(xgb_params, dtrain, num_boost_round=100, evals=watchlist, evals_result=rmses)"
   ]
  },
  {
   "cell_type": "code",
   "execution_count": 28,
   "id": "3099b500",
   "metadata": {},
   "outputs": [
    {
     "data": {
      "text/plain": [
       "(0.1, 0.16323215675879393, 0.2320892516588856)"
      ]
     },
     "execution_count": 28,
     "metadata": {},
     "output_type": "execute_result"
    }
   ],
   "source": [
    "xgb_params['eta'], rmses['train']['rmse'][-1], rmses['val']['rmse'][-1] "
   ]
  },
  {
   "cell_type": "markdown",
   "id": "a4fa12cf",
   "metadata": {},
   "source": [
    "> **Answer 6**: `eta=0.3`"
   ]
  }
 ],
 "metadata": {
  "kernelspec": {
   "display_name": "3.11",
   "language": "python",
   "name": "3.11"
  },
  "language_info": {
   "codemirror_mode": {
    "name": "ipython",
    "version": 3
   },
   "file_extension": ".py",
   "mimetype": "text/x-python",
   "name": "python",
   "nbconvert_exporter": "python",
   "pygments_lexer": "ipython3",
   "version": "3.11.3"
  }
 },
 "nbformat": 4,
 "nbformat_minor": 5
}
