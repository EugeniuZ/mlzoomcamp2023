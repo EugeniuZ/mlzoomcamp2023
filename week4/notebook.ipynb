{
 "cells": [
  {
   "cell_type": "code",
   "execution_count": 1,
   "id": "71e8887e",
   "metadata": {},
   "outputs": [],
   "source": [
    "import numpy as np\n",
    "import pandas as pd\n",
    "\n",
    "from matplotlib import pyplot as plt\n",
    "from pandas.api.types import is_numeric_dtype\n",
    "\n",
    "from sklearn.feature_extraction import DictVectorizer\n",
    "\n",
    "from sklearn.linear_model import LogisticRegression\n",
    "\n",
    "from sklearn.metrics import roc_auc_score\n",
    "\n",
    "from sklearn.model_selection import train_test_split, KFold"
   ]
  },
  {
   "cell_type": "code",
   "execution_count": 2,
   "id": "93214007",
   "metadata": {},
   "outputs": [
    {
     "data": {
      "text/html": [
       "<div>\n",
       "<style scoped>\n",
       "    .dataframe tbody tr th:only-of-type {\n",
       "        vertical-align: middle;\n",
       "    }\n",
       "\n",
       "    .dataframe tbody tr th {\n",
       "        vertical-align: top;\n",
       "    }\n",
       "\n",
       "    .dataframe thead th {\n",
       "        text-align: right;\n",
       "    }\n",
       "</style>\n",
       "<table border=\"1\" class=\"dataframe\">\n",
       "  <thead>\n",
       "    <tr style=\"text-align: right;\">\n",
       "      <th></th>\n",
       "      <th>0</th>\n",
       "      <th>1</th>\n",
       "      <th>2</th>\n",
       "      <th>3</th>\n",
       "      <th>4</th>\n",
       "    </tr>\n",
       "  </thead>\n",
       "  <tbody>\n",
       "    <tr>\n",
       "      <th>Make</th>\n",
       "      <td>BMW</td>\n",
       "      <td>BMW</td>\n",
       "      <td>BMW</td>\n",
       "      <td>BMW</td>\n",
       "      <td>BMW</td>\n",
       "    </tr>\n",
       "    <tr>\n",
       "      <th>Model</th>\n",
       "      <td>1 Series M</td>\n",
       "      <td>1 Series</td>\n",
       "      <td>1 Series</td>\n",
       "      <td>1 Series</td>\n",
       "      <td>1 Series</td>\n",
       "    </tr>\n",
       "    <tr>\n",
       "      <th>Year</th>\n",
       "      <td>2011</td>\n",
       "      <td>2011</td>\n",
       "      <td>2011</td>\n",
       "      <td>2011</td>\n",
       "      <td>2011</td>\n",
       "    </tr>\n",
       "    <tr>\n",
       "      <th>Engine Fuel Type</th>\n",
       "      <td>premium unleaded (required)</td>\n",
       "      <td>premium unleaded (required)</td>\n",
       "      <td>premium unleaded (required)</td>\n",
       "      <td>premium unleaded (required)</td>\n",
       "      <td>premium unleaded (required)</td>\n",
       "    </tr>\n",
       "    <tr>\n",
       "      <th>Engine HP</th>\n",
       "      <td>335.0</td>\n",
       "      <td>300.0</td>\n",
       "      <td>300.0</td>\n",
       "      <td>230.0</td>\n",
       "      <td>230.0</td>\n",
       "    </tr>\n",
       "    <tr>\n",
       "      <th>Engine Cylinders</th>\n",
       "      <td>6.0</td>\n",
       "      <td>6.0</td>\n",
       "      <td>6.0</td>\n",
       "      <td>6.0</td>\n",
       "      <td>6.0</td>\n",
       "    </tr>\n",
       "    <tr>\n",
       "      <th>Transmission Type</th>\n",
       "      <td>MANUAL</td>\n",
       "      <td>MANUAL</td>\n",
       "      <td>MANUAL</td>\n",
       "      <td>MANUAL</td>\n",
       "      <td>MANUAL</td>\n",
       "    </tr>\n",
       "    <tr>\n",
       "      <th>Driven_Wheels</th>\n",
       "      <td>rear wheel drive</td>\n",
       "      <td>rear wheel drive</td>\n",
       "      <td>rear wheel drive</td>\n",
       "      <td>rear wheel drive</td>\n",
       "      <td>rear wheel drive</td>\n",
       "    </tr>\n",
       "    <tr>\n",
       "      <th>Number of Doors</th>\n",
       "      <td>2.0</td>\n",
       "      <td>2.0</td>\n",
       "      <td>2.0</td>\n",
       "      <td>2.0</td>\n",
       "      <td>2.0</td>\n",
       "    </tr>\n",
       "    <tr>\n",
       "      <th>Market Category</th>\n",
       "      <td>Factory Tuner,Luxury,High-Performance</td>\n",
       "      <td>Luxury,Performance</td>\n",
       "      <td>Luxury,High-Performance</td>\n",
       "      <td>Luxury,Performance</td>\n",
       "      <td>Luxury</td>\n",
       "    </tr>\n",
       "    <tr>\n",
       "      <th>Vehicle Size</th>\n",
       "      <td>Compact</td>\n",
       "      <td>Compact</td>\n",
       "      <td>Compact</td>\n",
       "      <td>Compact</td>\n",
       "      <td>Compact</td>\n",
       "    </tr>\n",
       "    <tr>\n",
       "      <th>Vehicle Style</th>\n",
       "      <td>Coupe</td>\n",
       "      <td>Convertible</td>\n",
       "      <td>Coupe</td>\n",
       "      <td>Coupe</td>\n",
       "      <td>Convertible</td>\n",
       "    </tr>\n",
       "    <tr>\n",
       "      <th>highway MPG</th>\n",
       "      <td>26</td>\n",
       "      <td>28</td>\n",
       "      <td>28</td>\n",
       "      <td>28</td>\n",
       "      <td>28</td>\n",
       "    </tr>\n",
       "    <tr>\n",
       "      <th>city mpg</th>\n",
       "      <td>19</td>\n",
       "      <td>19</td>\n",
       "      <td>20</td>\n",
       "      <td>18</td>\n",
       "      <td>18</td>\n",
       "    </tr>\n",
       "    <tr>\n",
       "      <th>Popularity</th>\n",
       "      <td>3916</td>\n",
       "      <td>3916</td>\n",
       "      <td>3916</td>\n",
       "      <td>3916</td>\n",
       "      <td>3916</td>\n",
       "    </tr>\n",
       "    <tr>\n",
       "      <th>MSRP</th>\n",
       "      <td>46135</td>\n",
       "      <td>40650</td>\n",
       "      <td>36350</td>\n",
       "      <td>29450</td>\n",
       "      <td>34500</td>\n",
       "    </tr>\n",
       "  </tbody>\n",
       "</table>\n",
       "</div>"
      ],
      "text/plain": [
       "                                                       0  \\\n",
       "Make                                                 BMW   \n",
       "Model                                         1 Series M   \n",
       "Year                                                2011   \n",
       "Engine Fuel Type             premium unleaded (required)   \n",
       "Engine HP                                          335.0   \n",
       "Engine Cylinders                                     6.0   \n",
       "Transmission Type                                 MANUAL   \n",
       "Driven_Wheels                           rear wheel drive   \n",
       "Number of Doors                                      2.0   \n",
       "Market Category    Factory Tuner,Luxury,High-Performance   \n",
       "Vehicle Size                                     Compact   \n",
       "Vehicle Style                                      Coupe   \n",
       "highway MPG                                           26   \n",
       "city mpg                                              19   \n",
       "Popularity                                          3916   \n",
       "MSRP                                               46135   \n",
       "\n",
       "                                             1                            2  \\\n",
       "Make                                       BMW                          BMW   \n",
       "Model                                 1 Series                     1 Series   \n",
       "Year                                      2011                         2011   \n",
       "Engine Fuel Type   premium unleaded (required)  premium unleaded (required)   \n",
       "Engine HP                                300.0                        300.0   \n",
       "Engine Cylinders                           6.0                          6.0   \n",
       "Transmission Type                       MANUAL                       MANUAL   \n",
       "Driven_Wheels                 rear wheel drive             rear wheel drive   \n",
       "Number of Doors                            2.0                          2.0   \n",
       "Market Category             Luxury,Performance      Luxury,High-Performance   \n",
       "Vehicle Size                           Compact                      Compact   \n",
       "Vehicle Style                      Convertible                        Coupe   \n",
       "highway MPG                                 28                           28   \n",
       "city mpg                                    19                           20   \n",
       "Popularity                                3916                         3916   \n",
       "MSRP                                     40650                        36350   \n",
       "\n",
       "                                             3                            4  \n",
       "Make                                       BMW                          BMW  \n",
       "Model                                 1 Series                     1 Series  \n",
       "Year                                      2011                         2011  \n",
       "Engine Fuel Type   premium unleaded (required)  premium unleaded (required)  \n",
       "Engine HP                                230.0                        230.0  \n",
       "Engine Cylinders                           6.0                          6.0  \n",
       "Transmission Type                       MANUAL                       MANUAL  \n",
       "Driven_Wheels                 rear wheel drive             rear wheel drive  \n",
       "Number of Doors                            2.0                          2.0  \n",
       "Market Category             Luxury,Performance                       Luxury  \n",
       "Vehicle Size                           Compact                      Compact  \n",
       "Vehicle Style                            Coupe                  Convertible  \n",
       "highway MPG                                 28                           28  \n",
       "city mpg                                    18                           18  \n",
       "Popularity                                3916                         3916  \n",
       "MSRP                                     29450                        34500  "
      ]
     },
     "execution_count": 2,
     "metadata": {},
     "output_type": "execute_result"
    }
   ],
   "source": [
    "df_orig = pd.read_csv('data.csv')\n",
    "df_orig.head().T"
   ]
  },
  {
   "cell_type": "markdown",
   "id": "25b9157f",
   "metadata": {},
   "source": [
    "For the rest of the homework, you'll need to use only these columns:\n",
    "\n",
    "* `Make`,\n",
    "* `Model`,\n",
    "* `Year`,\n",
    "* `Engine HP`,\n",
    "* `Engine Cylinders`,\n",
    "* `Transmission Type`,\n",
    "* `Vehicle Style`,\n",
    "* `highway MPG`,\n",
    "* `city mpg`\n",
    "* `MSRP`\n",
    "\n",
    "\n",
    "### Data preparation\n",
    "\n",
    "* Keep only the columns above\n",
    "* Lowercase the column names and replace spaces with underscores\n",
    "* Fill the missing values with 0 \n",
    "* Make the price binary (1 if above the average, 0 otherwise) - this will be our target variable `above_average`\n",
    "\n",
    "Split the data into 3 parts: train/validation/test with 60%/20%/20% distribution. Use `train_test_split` function for that with `random_state=1`\n"
   ]
  },
  {
   "cell_type": "code",
   "execution_count": 3,
   "id": "f5097e94",
   "metadata": {},
   "outputs": [
    {
     "data": {
      "text/html": [
       "<div>\n",
       "<style scoped>\n",
       "    .dataframe tbody tr th:only-of-type {\n",
       "        vertical-align: middle;\n",
       "    }\n",
       "\n",
       "    .dataframe tbody tr th {\n",
       "        vertical-align: top;\n",
       "    }\n",
       "\n",
       "    .dataframe thead th {\n",
       "        text-align: right;\n",
       "    }\n",
       "</style>\n",
       "<table border=\"1\" class=\"dataframe\">\n",
       "  <thead>\n",
       "    <tr style=\"text-align: right;\">\n",
       "      <th></th>\n",
       "      <th>make</th>\n",
       "      <th>model</th>\n",
       "      <th>year</th>\n",
       "      <th>engine_hp</th>\n",
       "      <th>engine_cylinders</th>\n",
       "      <th>transmission_type</th>\n",
       "      <th>vehicle_style</th>\n",
       "      <th>highway_mpg</th>\n",
       "      <th>city_mpg</th>\n",
       "      <th>above_average</th>\n",
       "    </tr>\n",
       "  </thead>\n",
       "  <tbody>\n",
       "    <tr>\n",
       "      <th>0</th>\n",
       "      <td>BMW</td>\n",
       "      <td>1 Series M</td>\n",
       "      <td>2011</td>\n",
       "      <td>335.0</td>\n",
       "      <td>6.0</td>\n",
       "      <td>MANUAL</td>\n",
       "      <td>Coupe</td>\n",
       "      <td>26</td>\n",
       "      <td>19</td>\n",
       "      <td>1</td>\n",
       "    </tr>\n",
       "    <tr>\n",
       "      <th>1</th>\n",
       "      <td>BMW</td>\n",
       "      <td>1 Series</td>\n",
       "      <td>2011</td>\n",
       "      <td>300.0</td>\n",
       "      <td>6.0</td>\n",
       "      <td>MANUAL</td>\n",
       "      <td>Convertible</td>\n",
       "      <td>28</td>\n",
       "      <td>19</td>\n",
       "      <td>1</td>\n",
       "    </tr>\n",
       "    <tr>\n",
       "      <th>2</th>\n",
       "      <td>BMW</td>\n",
       "      <td>1 Series</td>\n",
       "      <td>2011</td>\n",
       "      <td>300.0</td>\n",
       "      <td>6.0</td>\n",
       "      <td>MANUAL</td>\n",
       "      <td>Coupe</td>\n",
       "      <td>28</td>\n",
       "      <td>20</td>\n",
       "      <td>0</td>\n",
       "    </tr>\n",
       "    <tr>\n",
       "      <th>3</th>\n",
       "      <td>BMW</td>\n",
       "      <td>1 Series</td>\n",
       "      <td>2011</td>\n",
       "      <td>230.0</td>\n",
       "      <td>6.0</td>\n",
       "      <td>MANUAL</td>\n",
       "      <td>Coupe</td>\n",
       "      <td>28</td>\n",
       "      <td>18</td>\n",
       "      <td>0</td>\n",
       "    </tr>\n",
       "    <tr>\n",
       "      <th>4</th>\n",
       "      <td>BMW</td>\n",
       "      <td>1 Series</td>\n",
       "      <td>2011</td>\n",
       "      <td>230.0</td>\n",
       "      <td>6.0</td>\n",
       "      <td>MANUAL</td>\n",
       "      <td>Convertible</td>\n",
       "      <td>28</td>\n",
       "      <td>18</td>\n",
       "      <td>0</td>\n",
       "    </tr>\n",
       "  </tbody>\n",
       "</table>\n",
       "</div>"
      ],
      "text/plain": [
       "  make       model  year  engine_hp  engine_cylinders transmission_type  \\\n",
       "0  BMW  1 Series M  2011      335.0               6.0            MANUAL   \n",
       "1  BMW    1 Series  2011      300.0               6.0            MANUAL   \n",
       "2  BMW    1 Series  2011      300.0               6.0            MANUAL   \n",
       "3  BMW    1 Series  2011      230.0               6.0            MANUAL   \n",
       "4  BMW    1 Series  2011      230.0               6.0            MANUAL   \n",
       "\n",
       "  vehicle_style  highway_mpg  city_mpg  above_average  \n",
       "0         Coupe           26        19              1  \n",
       "1   Convertible           28        19              1  \n",
       "2         Coupe           28        20              0  \n",
       "3         Coupe           28        18              0  \n",
       "4   Convertible           28        18              0  "
      ]
     },
     "execution_count": 3,
     "metadata": {},
     "output_type": "execute_result"
    }
   ],
   "source": [
    "columns = [\n",
    "    'Make',\n",
    "    'Model',\n",
    "    'Year',\n",
    "    'Engine HP',\n",
    "    'Engine Cylinders',\n",
    "    'Transmission Type',\n",
    "    'Vehicle Style',\n",
    "    'highway MPG',\n",
    "    'city mpg',\n",
    "    'MSRP'\n",
    "]\n",
    "target = 'above_average'\n",
    "df = df_orig[columns]\n",
    "df.columns = df.columns.str.lower().str.replace(' ', '_')\n",
    "msrp_mean = df.msrp.mean()\n",
    "df = df.fillna(0)\n",
    "df[target] = (df.msrp > msrp_mean).astype(int)\n",
    "df.drop(columns=['msrp'], inplace=True)\n",
    "df.head()"
   ]
  },
  {
   "cell_type": "code",
   "execution_count": 4,
   "id": "5a2d694f",
   "metadata": {},
   "outputs": [],
   "source": [
    "seed = 1"
   ]
  },
  {
   "cell_type": "code",
   "execution_count": 5,
   "id": "1ef22979",
   "metadata": {},
   "outputs": [
    {
     "data": {
      "text/plain": [
       "((7148, 9), (2383, 9), (2383, 9))"
      ]
     },
     "execution_count": 5,
     "metadata": {},
     "output_type": "execute_result"
    }
   ],
   "source": [
    "df_train_full, df_test = train_test_split(df, test_size=0.2, random_state=seed)\n",
    "df_train, df_val = train_test_split(df_train_full, test_size=0.25, random_state=seed)\n",
    "\n",
    "y_train = df_train.pop(target)\n",
    "y_val = df_val.pop(target)\n",
    "y_test = df_test.pop(target)\n",
    "\n",
    "tuple(df_temp.shape for df_temp in [df_train, df_val, df_test])"
   ]
  },
  {
   "cell_type": "markdown",
   "id": "4986d9e4",
   "metadata": {},
   "source": [
    "### Question 1: ROC AUC feature importance\n",
    "\n",
    "ROC AUC could also be used to evaluate feature importance of numerical variables. \n",
    "\n",
    "Let's do that\n",
    "\n",
    "* For each numerical variable, use it as score and compute AUC with the `above_average` variable\n",
    "* Use the training dataset for that\n",
    "\n",
    "\n",
    "If your AUC is < 0.5, invert this variable by putting \"-\" in front\n",
    "\n",
    "(e.g. `-df_train['engine_hp']`)\n",
    "\n",
    "AUC can go below 0.5 if the variable is negatively correlated with the target varialble. You can change the direction of the correlation by negating this variable - then negative correlation becomes positive.\n",
    "\n",
    "Which numerical variable (among the following 4) has the highest AUC?\n",
    "\n",
    "- `engine_hp`\n",
    "- `engine_cylinders`\n",
    "- `highway_mpg`\n",
    "- `city_mpg`"
   ]
  },
  {
   "cell_type": "code",
   "execution_count": 6,
   "id": "dc7adbc6",
   "metadata": {},
   "outputs": [
    {
     "data": {
      "text/plain": [
       "make                  object\n",
       "model                 object\n",
       "year                   int64\n",
       "engine_hp            float64\n",
       "engine_cylinders     float64\n",
       "transmission_type     object\n",
       "vehicle_style         object\n",
       "highway_mpg            int64\n",
       "city_mpg               int64\n",
       "dtype: object"
      ]
     },
     "execution_count": 6,
     "metadata": {},
     "output_type": "execute_result"
    }
   ],
   "source": [
    "df_train.dtypes"
   ]
  },
  {
   "cell_type": "code",
   "execution_count": 7,
   "id": "303c2591",
   "metadata": {},
   "outputs": [
    {
     "data": {
      "text/plain": [
       "year                  int64\n",
       "engine_hp           float64\n",
       "engine_cylinders    float64\n",
       "highway_mpg           int64\n",
       "city_mpg              int64\n",
       "dtype: object"
      ]
     },
     "execution_count": 7,
     "metadata": {},
     "output_type": "execute_result"
    }
   ],
   "source": [
    "numeric = [col for col in df_train.columns if is_numeric_dtype(df_train[col]) and col != target]\n",
    "df_train[numeric].dtypes"
   ]
  },
  {
   "cell_type": "code",
   "execution_count": 8,
   "id": "f8735bb3",
   "metadata": {},
   "outputs": [
    {
     "name": "stdout",
     "output_type": "stream",
     "text": [
      "year             auc=0.6876\n",
      "engine_hp        auc=0.9171\n",
      "engine_cylinders auc=0.7661\n",
      "\tInverted values for col='highway_mpg'\n",
      "highway_mpg      auc=0.6331\n",
      "\tInverted values for col='city_mpg'\n",
      "city_mpg         auc=0.6734\n"
     ]
    }
   ],
   "source": [
    "for col in numeric:\n",
    "    auc = roc_auc_score(y_train, df_train[col])\n",
    "    if auc < 0.5:\n",
    "        print(f'\\tInverted values for {col=}')\n",
    "        auc = roc_auc_score(y_train, -df_train[col])\n",
    "    print(f'{col:16s} {auc=:.4f}')"
   ]
  },
  {
   "cell_type": "markdown",
   "id": "8bae2563",
   "metadata": {},
   "source": [
    "> **Answer 1**: `engine_hp`"
   ]
  },
  {
   "cell_type": "markdown",
   "id": "c1b7b614",
   "metadata": {},
   "source": [
    "### Question 2: Training the model\n",
    "\n",
    "Apply one-hot-encoding using `DictVectorizer` and train the logistic regression with these parameters:\n",
    "\n",
    "```python\n",
    "LogisticRegression(solver='liblinear', C=1.0, max_iter=1000)\n",
    "```\n",
    "\n",
    "What's the AUC of this model on the validation dataset? (round to 3 digits)\n",
    "\n",
    "- 0.678\n",
    "- 0.779\n",
    "- 0.878\n",
    "- 0.979"
   ]
  },
  {
   "cell_type": "code",
   "execution_count": 9,
   "id": "2276cbf5",
   "metadata": {},
   "outputs": [
    {
     "data": {
      "text/plain": [
       "(7148, 954)"
      ]
     },
     "execution_count": 9,
     "metadata": {},
     "output_type": "execute_result"
    }
   ],
   "source": [
    "dv = DictVectorizer()\n",
    "X_train = dv.fit_transform(df_train.to_dict(orient='records'))\n",
    "X_train.shape"
   ]
  },
  {
   "cell_type": "code",
   "execution_count": 10,
   "id": "b06bb0f2",
   "metadata": {},
   "outputs": [
    {
     "data": {
      "text/html": [
       "<style>#sk-container-id-1 {color: black;}#sk-container-id-1 pre{padding: 0;}#sk-container-id-1 div.sk-toggleable {background-color: white;}#sk-container-id-1 label.sk-toggleable__label {cursor: pointer;display: block;width: 100%;margin-bottom: 0;padding: 0.3em;box-sizing: border-box;text-align: center;}#sk-container-id-1 label.sk-toggleable__label-arrow:before {content: \"▸\";float: left;margin-right: 0.25em;color: #696969;}#sk-container-id-1 label.sk-toggleable__label-arrow:hover:before {color: black;}#sk-container-id-1 div.sk-estimator:hover label.sk-toggleable__label-arrow:before {color: black;}#sk-container-id-1 div.sk-toggleable__content {max-height: 0;max-width: 0;overflow: hidden;text-align: left;background-color: #f0f8ff;}#sk-container-id-1 div.sk-toggleable__content pre {margin: 0.2em;color: black;border-radius: 0.25em;background-color: #f0f8ff;}#sk-container-id-1 input.sk-toggleable__control:checked~div.sk-toggleable__content {max-height: 200px;max-width: 100%;overflow: auto;}#sk-container-id-1 input.sk-toggleable__control:checked~label.sk-toggleable__label-arrow:before {content: \"▾\";}#sk-container-id-1 div.sk-estimator input.sk-toggleable__control:checked~label.sk-toggleable__label {background-color: #d4ebff;}#sk-container-id-1 div.sk-label input.sk-toggleable__control:checked~label.sk-toggleable__label {background-color: #d4ebff;}#sk-container-id-1 input.sk-hidden--visually {border: 0;clip: rect(1px 1px 1px 1px);clip: rect(1px, 1px, 1px, 1px);height: 1px;margin: -1px;overflow: hidden;padding: 0;position: absolute;width: 1px;}#sk-container-id-1 div.sk-estimator {font-family: monospace;background-color: #f0f8ff;border: 1px dotted black;border-radius: 0.25em;box-sizing: border-box;margin-bottom: 0.5em;}#sk-container-id-1 div.sk-estimator:hover {background-color: #d4ebff;}#sk-container-id-1 div.sk-parallel-item::after {content: \"\";width: 100%;border-bottom: 1px solid gray;flex-grow: 1;}#sk-container-id-1 div.sk-label:hover label.sk-toggleable__label {background-color: #d4ebff;}#sk-container-id-1 div.sk-serial::before {content: \"\";position: absolute;border-left: 1px solid gray;box-sizing: border-box;top: 0;bottom: 0;left: 50%;z-index: 0;}#sk-container-id-1 div.sk-serial {display: flex;flex-direction: column;align-items: center;background-color: white;padding-right: 0.2em;padding-left: 0.2em;position: relative;}#sk-container-id-1 div.sk-item {position: relative;z-index: 1;}#sk-container-id-1 div.sk-parallel {display: flex;align-items: stretch;justify-content: center;background-color: white;position: relative;}#sk-container-id-1 div.sk-item::before, #sk-container-id-1 div.sk-parallel-item::before {content: \"\";position: absolute;border-left: 1px solid gray;box-sizing: border-box;top: 0;bottom: 0;left: 50%;z-index: -1;}#sk-container-id-1 div.sk-parallel-item {display: flex;flex-direction: column;z-index: 1;position: relative;background-color: white;}#sk-container-id-1 div.sk-parallel-item:first-child::after {align-self: flex-end;width: 50%;}#sk-container-id-1 div.sk-parallel-item:last-child::after {align-self: flex-start;width: 50%;}#sk-container-id-1 div.sk-parallel-item:only-child::after {width: 0;}#sk-container-id-1 div.sk-dashed-wrapped {border: 1px dashed gray;margin: 0 0.4em 0.5em 0.4em;box-sizing: border-box;padding-bottom: 0.4em;background-color: white;}#sk-container-id-1 div.sk-label label {font-family: monospace;font-weight: bold;display: inline-block;line-height: 1.2em;}#sk-container-id-1 div.sk-label-container {text-align: center;}#sk-container-id-1 div.sk-container {/* jupyter's `normalize.less` sets `[hidden] { display: none; }` but bootstrap.min.css set `[hidden] { display: none !important; }` so we also need the `!important` here to be able to override the default hidden behavior on the sphinx rendered scikit-learn.org. See: https://github.com/scikit-learn/scikit-learn/issues/21755 */display: inline-block !important;position: relative;}#sk-container-id-1 div.sk-text-repr-fallback {display: none;}</style><div id=\"sk-container-id-1\" class=\"sk-top-container\"><div class=\"sk-text-repr-fallback\"><pre>LogisticRegression(max_iter=1000, solver=&#x27;liblinear&#x27;)</pre><b>In a Jupyter environment, please rerun this cell to show the HTML representation or trust the notebook. <br />On GitHub, the HTML representation is unable to render, please try loading this page with nbviewer.org.</b></div><div class=\"sk-container\" hidden><div class=\"sk-item\"><div class=\"sk-estimator sk-toggleable\"><input class=\"sk-toggleable__control sk-hidden--visually\" id=\"sk-estimator-id-1\" type=\"checkbox\" checked><label for=\"sk-estimator-id-1\" class=\"sk-toggleable__label sk-toggleable__label-arrow\">LogisticRegression</label><div class=\"sk-toggleable__content\"><pre>LogisticRegression(max_iter=1000, solver=&#x27;liblinear&#x27;)</pre></div></div></div></div></div>"
      ],
      "text/plain": [
       "LogisticRegression(max_iter=1000, solver='liblinear')"
      ]
     },
     "execution_count": 10,
     "metadata": {},
     "output_type": "execute_result"
    }
   ],
   "source": [
    "model = LogisticRegression(solver='liblinear', C=1.0, max_iter=1000)\n",
    "model.fit(X_train, y_train)"
   ]
  },
  {
   "cell_type": "code",
   "execution_count": 11,
   "id": "4744da13",
   "metadata": {},
   "outputs": [
    {
     "data": {
      "text/plain": [
       "(2383, 954)"
      ]
     },
     "execution_count": 11,
     "metadata": {},
     "output_type": "execute_result"
    }
   ],
   "source": [
    "X_val = dv.transform(df_val.to_dict(orient='records'))\n",
    "X_val.shape"
   ]
  },
  {
   "cell_type": "code",
   "execution_count": 12,
   "id": "27181172",
   "metadata": {},
   "outputs": [
    {
     "data": {
      "text/plain": [
       "((2383,), 0.278770533706969)"
      ]
     },
     "execution_count": 12,
     "metadata": {},
     "output_type": "execute_result"
    }
   ],
   "source": [
    "y_val_pred = model.predict_proba(X_val)[:, 1]\n",
    "y_val_pred.shape, y_val_pred.mean()"
   ]
  },
  {
   "cell_type": "code",
   "execution_count": 13,
   "id": "981a1117",
   "metadata": {},
   "outputs": [
    {
     "data": {
      "text/plain": [
       "0.9797"
      ]
     },
     "execution_count": 13,
     "metadata": {},
     "output_type": "execute_result"
    }
   ],
   "source": [
    "roc_auc_score(y_val, y_val_pred).round(4)"
   ]
  },
  {
   "cell_type": "markdown",
   "id": "e6921a6b",
   "metadata": {},
   "source": [
    "> **Answer 2**: $0.979$"
   ]
  },
  {
   "cell_type": "markdown",
   "id": "ab2bed6f",
   "metadata": {},
   "source": [
    "### Question 3: Precision and Recall\n",
    "\n",
    "Now let's compute precision and recall for our model.\n",
    "\n",
    "* Evaluate the model on all thresholds from 0.0 to 1.0 with step 0.01\n",
    "* For each threshold, compute precision and recall\n",
    "* Plot them\n",
    "\n",
    "At which threshold precision and recall curves intersect?\n",
    "\n",
    "* 0.28\n",
    "* 0.48\n",
    "* 0.68\n",
    "* 0.88"
   ]
  },
  {
   "cell_type": "code",
   "execution_count": 14,
   "id": "3e0c667d",
   "metadata": {},
   "outputs": [],
   "source": [
    "thresholds = np.linspace(0, 1, round(1/0.01 + 1))"
   ]
  },
  {
   "cell_type": "code",
   "execution_count": 15,
   "id": "da397f6f",
   "metadata": {},
   "outputs": [
    {
     "name": "stdout",
     "output_type": "stream",
     "text": [
      "Curves intersect at approx: t=0.48\n"
     ]
    },
    {
     "name": "stderr",
     "output_type": "stream",
     "text": [
      "/tmp/ipykernel_18540/3368770164.py:18: RuntimeWarning: invalid value encountered in scalar divide\n",
      "  precision = tp / (tp + fp)\n"
     ]
    },
    {
     "data": {
      "image/png": "[encoded data removed]",
      "text/plain": [
       "<Figure size 640x480 with 1 Axes>"
      ]
     },
     "metadata": {},
     "output_type": "display_data"
    }
   ],
   "source": [
    "scores = []\n",
    "\n",
    "pt_intersect = float('inf')\n",
    "threshold_intersect = None\n",
    "\n",
    "for t in thresholds:\n",
    "    act_p = (y_val == 1)\n",
    "    act_n = (y_val == 0)\n",
    "    \n",
    "    pred_p = (y_val_pred >= t)\n",
    "    pred_n = (y_val_pred < t)\n",
    "    \n",
    "    tp = (act_p & pred_p).sum()\n",
    "    tn = (act_n & pred_n).sum()\n",
    "    fp = (act_n & pred_p).sum()\n",
    "    fn = (act_p & pred_n).sum()\n",
    "    \n",
    "    precision = tp / (tp + fp)\n",
    "    recall = tp / (tp + fn)\n",
    "    \n",
    "    scores.append((t, tp, tn, fp, fn, precision, recall))\n",
    "    \n",
    "    if abs(recall - precision) < pt_intersect:\n",
    "        pt_intersect = abs(recall - precision)\n",
    "        threshold_intersect = t\n",
    "        \n",
    "df_scores = pd.DataFrame(\n",
    "    scores, \n",
    "    columns=[\n",
    "        't', \n",
    "        'tp', 'tn', 'fp', 'fn',\n",
    "        'p', 'r'\n",
    "    ],\n",
    "    index=thresholds\n",
    ")\n",
    "\n",
    "plt.plot(df_scores.t, df_scores.p, label='precision');\n",
    "plt.plot(df_scores.t, df_scores.r, label='recall');\n",
    "plt.xticks(np.linspace(0.08, 0.88, 5));\n",
    "plt.grid(axis='x');\n",
    "plt.legend();\n",
    "\n",
    "print(f'Curves intersect at approx: t={threshold_intersect:.2f}')"
   ]
  },
  {
   "cell_type": "markdown",
   "id": "b65f0f26",
   "metadata": {},
   "source": [
    "> **Answer 3**: $0.48$"
   ]
  },
  {
   "cell_type": "markdown",
   "id": "47aebc3a",
   "metadata": {},
   "source": [
    "### Question 4: F1 score\n",
    "\n",
    "Precision and recall are conflicting - when one grows, the other goes down. That's why they are often combined into the F1 score - a metrics that takes into account both\n",
    "\n",
    "This is the formula for computing F1:\n",
    "\n",
    "$$F_1 = 2 \\cdot \\cfrac{P \\cdot R}{P + R}$$\n",
    "\n",
    "Where $P$ is precision and $R$ is recall.\n",
    "\n",
    "Let's compute F1 for all thresholds from 0.0 to 1.0 with increment 0.01\n",
    "\n",
    "At which threshold F1 is maximal?\n",
    "\n",
    "- 0.12\n",
    "- 0.32\n",
    "- 0.52\n",
    "- 0.72"
   ]
  },
  {
   "cell_type": "code",
   "execution_count": 16,
   "id": "6aa0dd3e",
   "metadata": {},
   "outputs": [
    {
     "data": {
      "image/png": "[encoded data removed]",
      "text/plain": [
       "<Figure size 640x480 with 1 Axes>"
      ]
     },
     "metadata": {},
     "output_type": "display_data"
    }
   ],
   "source": [
    "df_scores['F1'] = 2 * (df_scores.p * df_scores.r) / (df_scores.p + df_scores.r)\n",
    "\n",
    "plt.plot(df_scores.t, df_scores.F1);"
   ]
  },
  {
   "cell_type": "code",
   "execution_count": 17,
   "id": "c7a936d4",
   "metadata": {},
   "outputs": [
    {
     "data": {
      "text/plain": [
       "t        0.490000\n",
       "tp     575.000000\n",
       "tn    1659.000000\n",
       "fp      70.000000\n",
       "fn      79.000000\n",
       "p        0.891473\n",
       "r        0.879205\n",
       "F1       0.885296\n",
       "Name: 0.49, dtype: float64"
      ]
     },
     "execution_count": 17,
     "metadata": {},
     "output_type": "execute_result"
    }
   ],
   "source": [
    "idx = df_scores.F1.idxmax()\n",
    "df_scores.loc[idx, :]"
   ]
  },
  {
   "cell_type": "code",
   "execution_count": 18,
   "id": "5bc9dd90",
   "metadata": {},
   "outputs": [
    {
     "data": {
      "text/plain": [
       "count    100.000000\n",
       "mean       0.812203\n",
       "std        0.093161\n",
       "min        0.430688\n",
       "25%        0.789958\n",
       "50%        0.849277\n",
       "75%        0.876085\n",
       "max        0.885296\n",
       "Name: F1, dtype: float64"
      ]
     },
     "execution_count": 18,
     "metadata": {},
     "output_type": "execute_result"
    }
   ],
   "source": [
    "df_scores.F1.describe()"
   ]
  },
  {
   "cell_type": "markdown",
   "id": "310685ce",
   "metadata": {},
   "source": [
    "> **Answer 4**: $0.49$"
   ]
  },
  {
   "cell_type": "markdown",
   "id": "226e4d79",
   "metadata": {},
   "source": [
    "### Question 5: 5-Fold CV\n",
    "\n",
    "\n",
    "Use the `KFold` class from Scikit-Learn to evaluate our model on 5 different folds:\n",
    "\n",
    "```\n",
    "KFold(n_splits=5, shuffle=True, random_state=1)\n",
    "```\n",
    "\n",
    "* Iterate over different folds of `df_full_train`\n",
    "* Split the data into train and validation\n",
    "* Train the model on train with these parameters: `LogisticRegression(solver='liblinear', C=1.0, max_iter=1000)`\n",
    "* Use AUC to evaluate the model on validation\n",
    "\n",
    "How large is standard devidation of the scores across different folds?\n",
    "\n",
    "- 0.003\n",
    "- 0.030\n",
    "- 0.090\n",
    "- 0.140"
   ]
  },
  {
   "cell_type": "code",
   "execution_count": 19,
   "id": "dc0a96f2",
   "metadata": {},
   "outputs": [],
   "source": [
    "def kfold_scores(df, C=1.0):\n",
    "    kfold = KFold(n_splits=5, shuffle=True, random_state=seed)\n",
    "    scores = []\n",
    "\n",
    "    for train_idx, val_idx in kfold.split(df):\n",
    "        df_t = df.iloc[train_idx]\n",
    "        df_v = df.iloc[val_idx]\n",
    "\n",
    "        y_t = df_t.pop(target)\n",
    "        y_v = df_v.pop(target)\n",
    "\n",
    "        dv = DictVectorizer()\n",
    "        X_t = dv.fit_transform(df_t.to_dict(orient='records'))\n",
    "\n",
    "        model = LogisticRegression(solver='liblinear', C=C, max_iter=1000)\n",
    "        model.fit(X_t, y_t)\n",
    "\n",
    "        X_v = dv.transform(df_v.to_dict(orient='records'))\n",
    "        y_v_pred = model.predict_proba(X_v)[:, 1]\n",
    "        score = roc_auc_score(y_v, y_v_pred)\n",
    "        scores.append(score)\n",
    "    return np.array(scores)"
   ]
  },
  {
   "cell_type": "code",
   "execution_count": 20,
   "id": "9d7b8413",
   "metadata": {},
   "outputs": [
    {
     "name": "stdout",
     "output_type": "stream",
     "text": [
      "stdev of auc scores: 0.0021\n"
     ]
    }
   ],
   "source": [
    "scores = kfold_scores(df_train_full)\n",
    "print(f'stdev of auc scores: {scores.std():.4f}')"
   ]
  },
  {
   "cell_type": "markdown",
   "id": "e94abf7d",
   "metadata": {},
   "source": [
    "> **Answer 5**: $~0.003$"
   ]
  },
  {
   "cell_type": "markdown",
   "id": "9a16c9be",
   "metadata": {},
   "source": [
    "### Question 6: Hyperparemeter Tuning\n",
    "\n",
    "Now let's use 5-Fold cross-validation to find the best parameter `C`\n",
    "\n",
    "* Iterate over the following `C` values: `[0.01, 0.1, 0.5, 10]`\n",
    "* Initialize `KFold` with the same parameters as previously\n",
    "* Use these parametes for the model: `LogisticRegression(solver='liblinear', C=C, max_iter=1000)`\n",
    "* Compute the mean score as well as the std (round the mean and std to 3 decimal digits)\n",
    "\n",
    "Which `C` leads to the best mean score?\n",
    "\n",
    "- 0.01\n",
    "- 0.1\n",
    "- 0.5\n",
    "- 10\n",
    "\n",
    "If you have ties, select the score with the lowest std. If you still have ties, select the smallest `C`."
   ]
  },
  {
   "cell_type": "code",
   "execution_count": 21,
   "id": "cf16563a",
   "metadata": {},
   "outputs": [
    {
     "name": "stdout",
     "output_type": "stream",
     "text": [
      "C= 0.01, mean=0.952, std=0.003\n",
      "C= 0.10, mean=0.972, std=0.002\n",
      "C= 0.50, mean=0.977, std=0.002\n",
      "C=10.00, mean=0.981, std=0.003\n"
     ]
    }
   ],
   "source": [
    "for C in [0.01, 0.1, 0.5, 10]:\n",
    "    scores = kfold_scores(df_train_full, C=C)\n",
    "    print(f'{C=:5.2f}, mean={scores.mean():.3f}, std={scores.std():.3f}')"
   ]
  },
  {
   "cell_type": "markdown",
   "id": "3356fcaa",
   "metadata": {},
   "source": [
    "> **Answer 6**: $C=10$"
   ]
  }
 ],
 "metadata": {
  "kernelspec": {
   "display_name": "3.11",
   "language": "python",
   "name": "3.11"
  },
  "language_info": {
   "codemirror_mode": {
    "name": "ipython",
    "version": 3
   },
   "file_extension": ".py",
   "mimetype": "text/x-python",
   "name": "python",
   "nbconvert_exporter": "python",
   "pygments_lexer": "ipython3",
   "version": "3.11.3"
  }
 },
 "nbformat": 4,
 "nbformat_minor": 5
}
